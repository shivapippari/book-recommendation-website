{
 "cells": [
  {
   "cell_type": "markdown",
   "metadata": {
    "id": "_FNZpP0NHbNm"
   },
   "source": [
    "<b><h1>Books Recommendation System"
   ]
  },
  {
   "cell_type": "code",
   "execution_count": 1,
   "metadata": {
    "executionInfo": {
     "elapsed": 1059,
     "status": "ok",
     "timestamp": 1623912080527,
     "user": {
      "displayName": "Ashima IIITD",
      "photoUrl": "https://lh3.googleusercontent.com/a-/AOh14Gg51iTXizYDNTZkEdwmQ5GkwRQ8vp_9KTB8UVlC=s64",
      "userId": "02694856405090268186"
     },
     "user_tz": -330
    },
    "id": "5i_ZACcBHbNp"
   },
   "outputs": [],
   "source": [
    "import re\n",
    "import pickle\n",
    "import operator\n",
    "import numpy as np\n",
    "import pandas as pd\n",
    "import seaborn as sns\n",
    "import matplotlib.pyplot as plt\n",
    "from collections import Counter\n",
    "from scipy.sparse import csr_matrix\n",
    "from pandas.api.types import is_numeric_dtype\n",
    "from sklearn.neighbors import NearestNeighbors\n",
    "from sklearn.feature_extraction import DictVectorizer\n",
    "from sklearn.metrics.pairwise import cosine_similarity\n",
    "from sklearn.feature_extraction.text import TfidfVectorizer\n",
    "\n",
    "import warnings\n",
    "warnings.filterwarnings(\"ignore\")"
   ]
  },
  {
   "cell_type": "markdown",
   "metadata": {
    "id": "tHZLBBfiHbNy"
   },
   "source": [
    "<b><h3>Dataset"
   ]
  },
  {
   "cell_type": "code",
   "execution_count": 2,
   "metadata": {
    "colab": {
     "base_uri": "https://localhost:8080/"
    },
    "executionInfo": {
     "elapsed": 8655,
     "status": "ok",
     "timestamp": 1623912089180,
     "user": {
      "displayName": "Ashima IIITD",
      "photoUrl": "https://lh3.googleusercontent.com/a-/AOh14Gg51iTXizYDNTZkEdwmQ5GkwRQ8vp_9KTB8UVlC=s64",
      "userId": "02694856405090268186"
     },
     "user_tz": -330
    },
    "id": "XgvzNVu2HbNz",
    "outputId": "d875c6e1-1494-4f41-aed7-aa1361a39a80"
   },
   "outputs": [
    {
     "name": "stdout",
     "output_type": "stream",
     "text": [
      "Books Data:     (271360, 8)\n",
      "Users Data:     (278858, 3)\n",
      "Books-ratings:  (1149780, 3)\n"
     ]
    }
   ],
   "source": [
    "# books = pd.read_csv(r\"./Books.csv\", delimiter=';', error_bad_lines=False, encoding='ISO-8859-1', warn_bad_lines=False)\n",
    "# users = pd.read_csv(r\"Users.csv\", delimiter=';', error_bad_lines=False, encoding='ISO-8859-1', warn_bad_lines=False)\n",
    "# ratings = pd.read_csv(r\"Book-Ratings.csv\", delimiter=';', error_bad_lines=False, encoding='ISO-8859-1', warn_bad_lines=False)\n",
    "books = pd.read_csv(r\"./Books.csv\", delimiter=';', on_bad_lines='warn', encoding='ISO-8859-1')\n",
    "users = pd.read_csv(r\"Users.csv\", delimiter=';', on_bad_lines='warn', encoding='ISO-8859-1')\n",
    "ratings = pd.read_csv(r\"Book-Ratings.csv\", delimiter=';', on_bad_lines='warn', encoding='ISO-8859-1')\n",
    "\n",
    "print(\"Books Data:    \", books.shape)\n",
    "print(\"Users Data:    \", users.shape)\n",
    "print(\"Books-ratings: \", ratings.shape)"
   ]
  },
  {
   "cell_type": "markdown",
   "metadata": {
    "id": "85AzoW38PDI6"
   },
   "source": [
    "<b><h3>Pre-processing"
   ]
  },
  {
   "cell_type": "markdown",
   "metadata": {
    "id": "XvTKQiAYHbN4"
   },
   "source": [
    "<b>Books Dataset Pre-processing"
   ]
  },
  {
   "cell_type": "code",
   "execution_count": 3,
   "metadata": {
    "colab": {
     "base_uri": "https://localhost:8080/",
     "height": 357
    },
    "executionInfo": {
     "elapsed": 47,
     "status": "ok",
     "timestamp": 1623912089187,
     "user": {
      "displayName": "Ashima IIITD",
      "photoUrl": "https://lh3.googleusercontent.com/a-/AOh14Gg51iTXizYDNTZkEdwmQ5GkwRQ8vp_9KTB8UVlC=s64",
      "userId": "02694856405090268186"
     },
     "user_tz": -330
    },
    "id": "y5GmtiQJHbN4",
    "outputId": "c58a2b48-86e2-4efc-ca02-24d172425117"
   },
   "outputs": [
    {
     "name": "stdout",
     "output_type": "stream",
     "text": [
      "Columns:  ['ISBN', 'Book-Title', 'Book-Author', 'Year-Of-Publication', 'Publisher', 'Image-URL-S', 'Image-URL-M', 'Image-URL-L']\n"
     ]
    },
    {
     "data": {
      "text/html": [
       "<div>\n",
       "<style scoped>\n",
       "    .dataframe tbody tr th:only-of-type {\n",
       "        vertical-align: middle;\n",
       "    }\n",
       "\n",
       "    .dataframe tbody tr th {\n",
       "        vertical-align: top;\n",
       "    }\n",
       "\n",
       "    .dataframe thead th {\n",
       "        text-align: right;\n",
       "    }\n",
       "</style>\n",
       "<table border=\"1\" class=\"dataframe\">\n",
       "  <thead>\n",
       "    <tr style=\"text-align: right;\">\n",
       "      <th></th>\n",
       "      <th>ISBN</th>\n",
       "      <th>Book-Title</th>\n",
       "      <th>Book-Author</th>\n",
       "      <th>Year-Of-Publication</th>\n",
       "      <th>Publisher</th>\n",
       "      <th>Image-URL-S</th>\n",
       "      <th>Image-URL-M</th>\n",
       "      <th>Image-URL-L</th>\n",
       "    </tr>\n",
       "  </thead>\n",
       "  <tbody>\n",
       "    <tr>\n",
       "      <th>0</th>\n",
       "      <td>0195153448</td>\n",
       "      <td>Classical Mythology</td>\n",
       "      <td>Mark P. O. Morford</td>\n",
       "      <td>2002</td>\n",
       "      <td>Oxford University Press</td>\n",
       "      <td>http://images.amazon.com/images/P/0195153448.0...</td>\n",
       "      <td>http://images.amazon.com/images/P/0195153448.0...</td>\n",
       "      <td>http://images.amazon.com/images/P/0195153448.0...</td>\n",
       "    </tr>\n",
       "    <tr>\n",
       "      <th>1</th>\n",
       "      <td>0002005018</td>\n",
       "      <td>Clara Callan</td>\n",
       "      <td>Richard Bruce Wright</td>\n",
       "      <td>2001</td>\n",
       "      <td>HarperFlamingo Canada</td>\n",
       "      <td>http://images.amazon.com/images/P/0002005018.0...</td>\n",
       "      <td>http://images.amazon.com/images/P/0002005018.0...</td>\n",
       "      <td>http://images.amazon.com/images/P/0002005018.0...</td>\n",
       "    </tr>\n",
       "    <tr>\n",
       "      <th>2</th>\n",
       "      <td>0060973129</td>\n",
       "      <td>Decision in Normandy</td>\n",
       "      <td>Carlo D'Este</td>\n",
       "      <td>1991</td>\n",
       "      <td>HarperPerennial</td>\n",
       "      <td>http://images.amazon.com/images/P/0060973129.0...</td>\n",
       "      <td>http://images.amazon.com/images/P/0060973129.0...</td>\n",
       "      <td>http://images.amazon.com/images/P/0060973129.0...</td>\n",
       "    </tr>\n",
       "    <tr>\n",
       "      <th>3</th>\n",
       "      <td>0374157065</td>\n",
       "      <td>Flu: The Story of the Great Influenza Pandemic...</td>\n",
       "      <td>Gina Bari Kolata</td>\n",
       "      <td>1999</td>\n",
       "      <td>Farrar Straus Giroux</td>\n",
       "      <td>http://images.amazon.com/images/P/0374157065.0...</td>\n",
       "      <td>http://images.amazon.com/images/P/0374157065.0...</td>\n",
       "      <td>http://images.amazon.com/images/P/0374157065.0...</td>\n",
       "    </tr>\n",
       "    <tr>\n",
       "      <th>4</th>\n",
       "      <td>0393045218</td>\n",
       "      <td>The Mummies of Urumchi</td>\n",
       "      <td>E. J. W. Barber</td>\n",
       "      <td>1999</td>\n",
       "      <td>W. W. Norton &amp;amp; Company</td>\n",
       "      <td>http://images.amazon.com/images/P/0393045218.0...</td>\n",
       "      <td>http://images.amazon.com/images/P/0393045218.0...</td>\n",
       "      <td>http://images.amazon.com/images/P/0393045218.0...</td>\n",
       "    </tr>\n",
       "  </tbody>\n",
       "</table>\n",
       "</div>"
      ],
      "text/plain": [
       "         ISBN                                         Book-Title  \\\n",
       "0  0195153448                                Classical Mythology   \n",
       "1  0002005018                                       Clara Callan   \n",
       "2  0060973129                               Decision in Normandy   \n",
       "3  0374157065  Flu: The Story of the Great Influenza Pandemic...   \n",
       "4  0393045218                             The Mummies of Urumchi   \n",
       "\n",
       "            Book-Author Year-Of-Publication                   Publisher  \\\n",
       "0    Mark P. O. Morford                2002     Oxford University Press   \n",
       "1  Richard Bruce Wright                2001       HarperFlamingo Canada   \n",
       "2          Carlo D'Este                1991             HarperPerennial   \n",
       "3      Gina Bari Kolata                1999        Farrar Straus Giroux   \n",
       "4       E. J. W. Barber                1999  W. W. Norton &amp; Company   \n",
       "\n",
       "                                         Image-URL-S  \\\n",
       "0  http://images.amazon.com/images/P/0195153448.0...   \n",
       "1  http://images.amazon.com/images/P/0002005018.0...   \n",
       "2  http://images.amazon.com/images/P/0060973129.0...   \n",
       "3  http://images.amazon.com/images/P/0374157065.0...   \n",
       "4  http://images.amazon.com/images/P/0393045218.0...   \n",
       "\n",
       "                                         Image-URL-M  \\\n",
       "0  http://images.amazon.com/images/P/0195153448.0...   \n",
       "1  http://images.amazon.com/images/P/0002005018.0...   \n",
       "2  http://images.amazon.com/images/P/0060973129.0...   \n",
       "3  http://images.amazon.com/images/P/0374157065.0...   \n",
       "4  http://images.amazon.com/images/P/0393045218.0...   \n",
       "\n",
       "                                         Image-URL-L  \n",
       "0  http://images.amazon.com/images/P/0195153448.0...  \n",
       "1  http://images.amazon.com/images/P/0002005018.0...  \n",
       "2  http://images.amazon.com/images/P/0060973129.0...  \n",
       "3  http://images.amazon.com/images/P/0374157065.0...  \n",
       "4  http://images.amazon.com/images/P/0393045218.0...  "
      ]
     },
     "execution_count": 3,
     "metadata": {},
     "output_type": "execute_result"
    }
   ],
   "source": [
    "print(\"Columns: \", list(books.columns))\n",
    "books.head()"
   ]
  },
  {
   "cell_type": "code",
   "execution_count": 4,
   "metadata": {
    "colab": {
     "base_uri": "https://localhost:8080/",
     "height": 204
    },
    "executionInfo": {
     "elapsed": 33,
     "status": "ok",
     "timestamp": 1623912089188,
     "user": {
      "displayName": "Ashima IIITD",
      "photoUrl": "https://lh3.googleusercontent.com/a-/AOh14Gg51iTXizYDNTZkEdwmQ5GkwRQ8vp_9KTB8UVlC=s64",
      "userId": "02694856405090268186"
     },
     "user_tz": -330
    },
    "id": "x5FXDpgoHbN8",
    "outputId": "8cc385e8-9bf6-4a7a-d400-da19fad9201a"
   },
   "outputs": [
    {
     "data": {
      "text/html": [
       "<div>\n",
       "<style scoped>\n",
       "    .dataframe tbody tr th:only-of-type {\n",
       "        vertical-align: middle;\n",
       "    }\n",
       "\n",
       "    .dataframe tbody tr th {\n",
       "        vertical-align: top;\n",
       "    }\n",
       "\n",
       "    .dataframe thead th {\n",
       "        text-align: right;\n",
       "    }\n",
       "</style>\n",
       "<table border=\"1\" class=\"dataframe\">\n",
       "  <thead>\n",
       "    <tr style=\"text-align: right;\">\n",
       "      <th></th>\n",
       "      <th>ISBN</th>\n",
       "      <th>Book-Title</th>\n",
       "      <th>Book-Author</th>\n",
       "      <th>Year-Of-Publication</th>\n",
       "      <th>Publisher</th>\n",
       "    </tr>\n",
       "  </thead>\n",
       "  <tbody>\n",
       "    <tr>\n",
       "      <th>0</th>\n",
       "      <td>0195153448</td>\n",
       "      <td>Classical Mythology</td>\n",
       "      <td>Mark P. O. Morford</td>\n",
       "      <td>2002</td>\n",
       "      <td>Oxford University Press</td>\n",
       "    </tr>\n",
       "    <tr>\n",
       "      <th>1</th>\n",
       "      <td>0002005018</td>\n",
       "      <td>Clara Callan</td>\n",
       "      <td>Richard Bruce Wright</td>\n",
       "      <td>2001</td>\n",
       "      <td>HarperFlamingo Canada</td>\n",
       "    </tr>\n",
       "    <tr>\n",
       "      <th>2</th>\n",
       "      <td>0060973129</td>\n",
       "      <td>Decision in Normandy</td>\n",
       "      <td>Carlo D'Este</td>\n",
       "      <td>1991</td>\n",
       "      <td>HarperPerennial</td>\n",
       "    </tr>\n",
       "    <tr>\n",
       "      <th>3</th>\n",
       "      <td>0374157065</td>\n",
       "      <td>Flu: The Story of the Great Influenza Pandemic...</td>\n",
       "      <td>Gina Bari Kolata</td>\n",
       "      <td>1999</td>\n",
       "      <td>Farrar Straus Giroux</td>\n",
       "    </tr>\n",
       "    <tr>\n",
       "      <th>4</th>\n",
       "      <td>0393045218</td>\n",
       "      <td>The Mummies of Urumchi</td>\n",
       "      <td>E. J. W. Barber</td>\n",
       "      <td>1999</td>\n",
       "      <td>W. W. Norton &amp;amp; Company</td>\n",
       "    </tr>\n",
       "  </tbody>\n",
       "</table>\n",
       "</div>"
      ],
      "text/plain": [
       "         ISBN                                         Book-Title  \\\n",
       "0  0195153448                                Classical Mythology   \n",
       "1  0002005018                                       Clara Callan   \n",
       "2  0060973129                               Decision in Normandy   \n",
       "3  0374157065  Flu: The Story of the Great Influenza Pandemic...   \n",
       "4  0393045218                             The Mummies of Urumchi   \n",
       "\n",
       "            Book-Author Year-Of-Publication                   Publisher  \n",
       "0    Mark P. O. Morford                2002     Oxford University Press  \n",
       "1  Richard Bruce Wright                2001       HarperFlamingo Canada  \n",
       "2          Carlo D'Este                1991             HarperPerennial  \n",
       "3      Gina Bari Kolata                1999        Farrar Straus Giroux  \n",
       "4       E. J. W. Barber                1999  W. W. Norton &amp; Company  "
      ]
     },
     "execution_count": 4,
     "metadata": {},
     "output_type": "execute_result"
    }
   ],
   "source": [
    "## Drop URL columns\n",
    "books.drop(['Image-URL-S', 'Image-URL-M', 'Image-URL-L'], axis=1, inplace=True)\n",
    "books.head()"
   ]
  },
  {
   "cell_type": "code",
   "execution_count": 5,
   "metadata": {
    "colab": {
     "base_uri": "https://localhost:8080/"
    },
    "executionInfo": {
     "elapsed": 33,
     "status": "ok",
     "timestamp": 1623912089189,
     "user": {
      "displayName": "Ashima IIITD",
      "photoUrl": "https://lh3.googleusercontent.com/a-/AOh14Gg51iTXizYDNTZkEdwmQ5GkwRQ8vp_9KTB8UVlC=s64",
      "userId": "02694856405090268186"
     },
     "user_tz": -330
    },
    "id": "7FRBFHbiHbN_",
    "outputId": "e024e560-35cf-4d9c-e4ca-bfcbd1219a5d"
   },
   "outputs": [
    {
     "data": {
      "text/plain": [
       "ISBN                   0\n",
       "Book-Title             0\n",
       "Book-Author            2\n",
       "Year-Of-Publication    0\n",
       "Publisher              2\n",
       "dtype: int64"
      ]
     },
     "execution_count": 5,
     "metadata": {},
     "output_type": "execute_result"
    }
   ],
   "source": [
    "## Checking for null values\n",
    "books.isnull().sum() "
   ]
  },
  {
   "cell_type": "code",
   "execution_count": 6,
   "metadata": {
    "colab": {
     "base_uri": "https://localhost:8080/",
     "height": 80
    },
    "executionInfo": {
     "elapsed": 28,
     "status": "ok",
     "timestamp": 1623912089189,
     "user": {
      "displayName": "Ashima IIITD",
      "photoUrl": "https://lh3.googleusercontent.com/a-/AOh14Gg51iTXizYDNTZkEdwmQ5GkwRQ8vp_9KTB8UVlC=s64",
      "userId": "02694856405090268186"
     },
     "user_tz": -330
    },
    "id": "nWpbrzAyHbOB",
    "outputId": "2573da38-51f7-4555-fce7-f9fee0b9a78f"
   },
   "outputs": [
    {
     "data": {
      "text/html": [
       "<div>\n",
       "<style scoped>\n",
       "    .dataframe tbody tr th:only-of-type {\n",
       "        vertical-align: middle;\n",
       "    }\n",
       "\n",
       "    .dataframe tbody tr th {\n",
       "        vertical-align: top;\n",
       "    }\n",
       "\n",
       "    .dataframe thead th {\n",
       "        text-align: right;\n",
       "    }\n",
       "</style>\n",
       "<table border=\"1\" class=\"dataframe\">\n",
       "  <thead>\n",
       "    <tr style=\"text-align: right;\">\n",
       "      <th></th>\n",
       "      <th>ISBN</th>\n",
       "      <th>Book-Title</th>\n",
       "      <th>Book-Author</th>\n",
       "      <th>Year-Of-Publication</th>\n",
       "      <th>Publisher</th>\n",
       "    </tr>\n",
       "  </thead>\n",
       "  <tbody>\n",
       "    <tr>\n",
       "      <th>118033</th>\n",
       "      <td>0751352497</td>\n",
       "      <td>A+ Quiz Masters:01 Earth</td>\n",
       "      <td>NaN</td>\n",
       "      <td>1999</td>\n",
       "      <td>Dorling Kindersley</td>\n",
       "    </tr>\n",
       "    <tr>\n",
       "      <th>187689</th>\n",
       "      <td>9627982032</td>\n",
       "      <td>The Credit Suisse Guide to Managing Your Perso...</td>\n",
       "      <td>NaN</td>\n",
       "      <td>1995</td>\n",
       "      <td>Edinburgh Financial Publishing</td>\n",
       "    </tr>\n",
       "  </tbody>\n",
       "</table>\n",
       "</div>"
      ],
      "text/plain": [
       "              ISBN                                         Book-Title  \\\n",
       "118033  0751352497                           A+ Quiz Masters:01 Earth   \n",
       "187689  9627982032  The Credit Suisse Guide to Managing Your Perso...   \n",
       "\n",
       "       Book-Author Year-Of-Publication                       Publisher  \n",
       "118033         NaN                1999              Dorling Kindersley  \n",
       "187689         NaN                1995  Edinburgh Financial Publishing  "
      ]
     },
     "execution_count": 6,
     "metadata": {},
     "output_type": "execute_result"
    }
   ],
   "source": [
    "books.loc[books['Book-Author'].isnull(),:]"
   ]
  },
  {
   "cell_type": "code",
   "execution_count": 7,
   "metadata": {
    "colab": {
     "base_uri": "https://localhost:8080/",
     "height": 111
    },
    "executionInfo": {
     "elapsed": 28,
     "status": "ok",
     "timestamp": 1623912089190,
     "user": {
      "displayName": "Ashima IIITD",
      "photoUrl": "https://lh3.googleusercontent.com/a-/AOh14Gg51iTXizYDNTZkEdwmQ5GkwRQ8vp_9KTB8UVlC=s64",
      "userId": "02694856405090268186"
     },
     "user_tz": -330
    },
    "id": "qA3l-OrpHbOF",
    "outputId": "4f3bde52-9597-4272-ef45-a9b6eeba3950"
   },
   "outputs": [
    {
     "data": {
      "text/html": [
       "<div>\n",
       "<style scoped>\n",
       "    .dataframe tbody tr th:only-of-type {\n",
       "        vertical-align: middle;\n",
       "    }\n",
       "\n",
       "    .dataframe tbody tr th {\n",
       "        vertical-align: top;\n",
       "    }\n",
       "\n",
       "    .dataframe thead th {\n",
       "        text-align: right;\n",
       "    }\n",
       "</style>\n",
       "<table border=\"1\" class=\"dataframe\">\n",
       "  <thead>\n",
       "    <tr style=\"text-align: right;\">\n",
       "      <th></th>\n",
       "      <th>ISBN</th>\n",
       "      <th>Book-Title</th>\n",
       "      <th>Book-Author</th>\n",
       "      <th>Year-Of-Publication</th>\n",
       "      <th>Publisher</th>\n",
       "    </tr>\n",
       "  </thead>\n",
       "  <tbody>\n",
       "    <tr>\n",
       "      <th>128890</th>\n",
       "      <td>193169656X</td>\n",
       "      <td>Tyrant Moon</td>\n",
       "      <td>Elaine Corvidae</td>\n",
       "      <td>2002</td>\n",
       "      <td>NaN</td>\n",
       "    </tr>\n",
       "    <tr>\n",
       "      <th>129037</th>\n",
       "      <td>1931696993</td>\n",
       "      <td>Finders Keepers</td>\n",
       "      <td>Linnea Sinclair</td>\n",
       "      <td>2001</td>\n",
       "      <td>NaN</td>\n",
       "    </tr>\n",
       "  </tbody>\n",
       "</table>\n",
       "</div>"
      ],
      "text/plain": [
       "              ISBN       Book-Title      Book-Author Year-Of-Publication  \\\n",
       "128890  193169656X      Tyrant Moon  Elaine Corvidae                2002   \n",
       "129037  1931696993  Finders Keepers  Linnea Sinclair                2001   \n",
       "\n",
       "       Publisher  \n",
       "128890       NaN  \n",
       "129037       NaN  "
      ]
     },
     "execution_count": 7,
     "metadata": {},
     "output_type": "execute_result"
    }
   ],
   "source": [
    "books.loc[books['Publisher'].isnull(),:]"
   ]
  },
  {
   "cell_type": "code",
   "execution_count": 8,
   "metadata": {
    "executionInfo": {
     "elapsed": 27,
     "status": "ok",
     "timestamp": 1623912089190,
     "user": {
      "displayName": "Ashima IIITD",
      "photoUrl": "https://lh3.googleusercontent.com/a-/AOh14Gg51iTXizYDNTZkEdwmQ5GkwRQ8vp_9KTB8UVlC=s64",
      "userId": "02694856405090268186"
     },
     "user_tz": -330
    },
    "id": "__WHZnoBHbOI"
   },
   "outputs": [],
   "source": [
    "books.at[187689 ,'Book-Author'] = 'Other'\n",
    "\n",
    "books.at[128890 ,'Publisher'] = 'Other'\n",
    "books.at[129037 ,'Publisher'] = 'Other'"
   ]
  },
  {
   "cell_type": "code",
   "execution_count": 9,
   "metadata": {
    "colab": {
     "base_uri": "https://localhost:8080/"
    },
    "executionInfo": {
     "elapsed": 27,
     "status": "ok",
     "timestamp": 1623912089191,
     "user": {
      "displayName": "Ashima IIITD",
      "photoUrl": "https://lh3.googleusercontent.com/a-/AOh14Gg51iTXizYDNTZkEdwmQ5GkwRQ8vp_9KTB8UVlC=s64",
      "userId": "02694856405090268186"
     },
     "user_tz": -330
    },
    "id": "LN38SO2AHbON",
    "outputId": "bb6b44f4-d7ae-4a3f-b0c3-e7126e41c2f5"
   },
   "outputs": [
    {
     "data": {
      "text/plain": [
       "array([2002, 2001, 1991, 1999, 2000, 1993, 1996, 1988, 2004, 1998, 1994,\n",
       "       2003, 1997, 1983, 1979, 1995, 1982, 1985, 1992, 1986, 1978, 1980,\n",
       "       1952, 1987, 1990, 1981, 1989, 1984, 0, 1968, 1961, 1958, 1974,\n",
       "       1976, 1971, 1977, 1975, 1965, 1941, 1970, 1962, 1973, 1972, 1960,\n",
       "       1966, 1920, 1956, 1959, 1953, 1951, 1942, 1963, 1964, 1969, 1954,\n",
       "       1950, 1967, 2005, 1957, 1940, 1937, 1955, 1946, 1936, 1930, 2011,\n",
       "       1925, 1948, 1943, 1947, 1945, 1923, 2020, 1939, 1926, 1938, 2030,\n",
       "       1911, 1904, 1949, 1932, 1928, 1929, 1927, 1931, 1914, 2050, 1934,\n",
       "       1910, 1933, 1902, 1924, 1921, 1900, 2038, 2026, 1944, 1917, 1901,\n",
       "       2010, 1908, 1906, 1935, 1806, 2021, '2000', '1995', '1999', '2004',\n",
       "       '2003', '1990', '1994', '1986', '1989', '2002', '1981', '1993',\n",
       "       '1983', '1982', '1976', '1991', '1977', '1998', '1992', '1996',\n",
       "       '0', '1997', '2001', '1974', '1968', '1987', '1984', '1988',\n",
       "       '1963', '1956', '1970', '1985', '1978', '1973', '1980', '1979',\n",
       "       '1975', '1969', '1961', '1965', '1939', '1958', '1950', '1953',\n",
       "       '1966', '1971', '1959', '1972', '1955', '1957', '1945', '1960',\n",
       "       '1967', '1932', '1924', '1964', '2012', '1911', '1927', '1948',\n",
       "       '1962', '2006', '1952', '1940', '1951', '1931', '1954', '2005',\n",
       "       '1930', '1941', '1944', 'DK Publishing Inc', '1943', '1938',\n",
       "       '1900', '1942', '1923', '1920', '1933', 'Gallimard', '1909',\n",
       "       '1946', '2008', '1378', '2030', '1936', '1947', '2011', '2020',\n",
       "       '1919', '1949', '1922', '1897', '2024', '1376', '1926', '2037'],\n",
       "      dtype=object)"
      ]
     },
     "execution_count": 9,
     "metadata": {},
     "output_type": "execute_result"
    }
   ],
   "source": [
    "## Checking for column Year-of-publication\n",
    "books['Year-Of-Publication'].unique()"
   ]
  },
  {
   "cell_type": "code",
   "execution_count": 10,
   "metadata": {
    "executionInfo": {
     "elapsed": 22,
     "status": "ok",
     "timestamp": 1623912089191,
     "user": {
      "displayName": "Ashima IIITD",
      "photoUrl": "https://lh3.googleusercontent.com/a-/AOh14Gg51iTXizYDNTZkEdwmQ5GkwRQ8vp_9KTB8UVlC=s64",
      "userId": "02694856405090268186"
     },
     "user_tz": -330
    },
    "id": "lqwXbFTCHbOQ"
   },
   "outputs": [],
   "source": [
    "pd.set_option('display.max_colwidth', None)"
   ]
  },
  {
   "cell_type": "code",
   "execution_count": 11,
   "metadata": {
    "colab": {
     "base_uri": "https://localhost:8080/",
     "height": 111
    },
    "executionInfo": {
     "elapsed": 692,
     "status": "ok",
     "timestamp": 1623912089861,
     "user": {
      "displayName": "Ashima IIITD",
      "photoUrl": "https://lh3.googleusercontent.com/a-/AOh14Gg51iTXizYDNTZkEdwmQ5GkwRQ8vp_9KTB8UVlC=s64",
      "userId": "02694856405090268186"
     },
     "user_tz": -330
    },
    "id": "iBzWyoNuHbOS",
    "outputId": "3bd3aafa-7ebe-464c-e9f6-9b09e71b6031"
   },
   "outputs": [
    {
     "data": {
      "text/html": [
       "<div>\n",
       "<style scoped>\n",
       "    .dataframe tbody tr th:only-of-type {\n",
       "        vertical-align: middle;\n",
       "    }\n",
       "\n",
       "    .dataframe tbody tr th {\n",
       "        vertical-align: top;\n",
       "    }\n",
       "\n",
       "    .dataframe thead th {\n",
       "        text-align: right;\n",
       "    }\n",
       "</style>\n",
       "<table border=\"1\" class=\"dataframe\">\n",
       "  <thead>\n",
       "    <tr style=\"text-align: right;\">\n",
       "      <th></th>\n",
       "      <th>ISBN</th>\n",
       "      <th>Book-Title</th>\n",
       "      <th>Book-Author</th>\n",
       "      <th>Year-Of-Publication</th>\n",
       "      <th>Publisher</th>\n",
       "    </tr>\n",
       "  </thead>\n",
       "  <tbody>\n",
       "    <tr>\n",
       "      <th>209538</th>\n",
       "      <td>078946697X</td>\n",
       "      <td>DK Readers: Creating the X-Men, How It All Began (Level 4: Proficient Readers)\\\";Michael Teitelbaum\"</td>\n",
       "      <td>2000</td>\n",
       "      <td>DK Publishing Inc</td>\n",
       "      <td>http://images.amazon.com/images/P/078946697X.01.THUMBZZZ.jpg</td>\n",
       "    </tr>\n",
       "    <tr>\n",
       "      <th>221678</th>\n",
       "      <td>0789466953</td>\n",
       "      <td>DK Readers: Creating the X-Men, How Comic Books Come to Life (Level 4: Proficient Readers)\\\";James Buckley\"</td>\n",
       "      <td>2000</td>\n",
       "      <td>DK Publishing Inc</td>\n",
       "      <td>http://images.amazon.com/images/P/0789466953.01.THUMBZZZ.jpg</td>\n",
       "    </tr>\n",
       "  </tbody>\n",
       "</table>\n",
       "</div>"
      ],
      "text/plain": [
       "              ISBN  \\\n",
       "209538  078946697X   \n",
       "221678  0789466953   \n",
       "\n",
       "                                                                                                         Book-Title  \\\n",
       "209538         DK Readers: Creating the X-Men, How It All Began (Level 4: Proficient Readers)\\\";Michael Teitelbaum\"   \n",
       "221678  DK Readers: Creating the X-Men, How Comic Books Come to Life (Level 4: Proficient Readers)\\\";James Buckley\"   \n",
       "\n",
       "       Book-Author Year-Of-Publication  \\\n",
       "209538        2000   DK Publishing Inc   \n",
       "221678        2000   DK Publishing Inc   \n",
       "\n",
       "                                                           Publisher  \n",
       "209538  http://images.amazon.com/images/P/078946697X.01.THUMBZZZ.jpg  \n",
       "221678  http://images.amazon.com/images/P/0789466953.01.THUMBZZZ.jpg  "
      ]
     },
     "execution_count": 11,
     "metadata": {},
     "output_type": "execute_result"
    }
   ],
   "source": [
    "books.loc[books['Year-Of-Publication'] == 'DK Publishing Inc',:]"
   ]
  },
  {
   "cell_type": "code",
   "execution_count": 12,
   "metadata": {
    "colab": {
     "base_uri": "https://localhost:8080/",
     "height": 80
    },
    "executionInfo": {
     "elapsed": 19,
     "status": "ok",
     "timestamp": 1623912089861,
     "user": {
      "displayName": "Ashima IIITD",
      "photoUrl": "https://lh3.googleusercontent.com/a-/AOh14Gg51iTXizYDNTZkEdwmQ5GkwRQ8vp_9KTB8UVlC=s64",
      "userId": "02694856405090268186"
     },
     "user_tz": -330
    },
    "id": "wl5XyqQWHbOV",
    "outputId": "4eebe45b-aebf-4d83-ea4f-0b2e425b1750"
   },
   "outputs": [
    {
     "data": {
      "text/html": [
       "<div>\n",
       "<style scoped>\n",
       "    .dataframe tbody tr th:only-of-type {\n",
       "        vertical-align: middle;\n",
       "    }\n",
       "\n",
       "    .dataframe tbody tr th {\n",
       "        vertical-align: top;\n",
       "    }\n",
       "\n",
       "    .dataframe thead th {\n",
       "        text-align: right;\n",
       "    }\n",
       "</style>\n",
       "<table border=\"1\" class=\"dataframe\">\n",
       "  <thead>\n",
       "    <tr style=\"text-align: right;\">\n",
       "      <th></th>\n",
       "      <th>ISBN</th>\n",
       "      <th>Book-Title</th>\n",
       "      <th>Book-Author</th>\n",
       "      <th>Year-Of-Publication</th>\n",
       "      <th>Publisher</th>\n",
       "    </tr>\n",
       "  </thead>\n",
       "  <tbody>\n",
       "    <tr>\n",
       "      <th>220731</th>\n",
       "      <td>2070426769</td>\n",
       "      <td>Peuple du ciel, suivi de 'Les Bergers\\\";Jean-Marie Gustave Le ClÃ?Â©zio\"</td>\n",
       "      <td>2003</td>\n",
       "      <td>Gallimard</td>\n",
       "      <td>http://images.amazon.com/images/P/2070426769.01.THUMBZZZ.jpg</td>\n",
       "    </tr>\n",
       "  </tbody>\n",
       "</table>\n",
       "</div>"
      ],
      "text/plain": [
       "              ISBN  \\\n",
       "220731  2070426769   \n",
       "\n",
       "                                                                      Book-Title  \\\n",
       "220731  Peuple du ciel, suivi de 'Les Bergers\\\";Jean-Marie Gustave Le ClÃ?Â©zio\"   \n",
       "\n",
       "       Book-Author Year-Of-Publication  \\\n",
       "220731        2003           Gallimard   \n",
       "\n",
       "                                                           Publisher  \n",
       "220731  http://images.amazon.com/images/P/2070426769.01.THUMBZZZ.jpg  "
      ]
     },
     "execution_count": 12,
     "metadata": {},
     "output_type": "execute_result"
    }
   ],
   "source": [
    "books.loc[books['Year-Of-Publication'] == 'Gallimard',:]"
   ]
  },
  {
   "cell_type": "code",
   "execution_count": 13,
   "metadata": {
    "executionInfo": {
     "elapsed": 19,
     "status": "ok",
     "timestamp": 1623912089862,
     "user": {
      "displayName": "Ashima IIITD",
      "photoUrl": "https://lh3.googleusercontent.com/a-/AOh14Gg51iTXizYDNTZkEdwmQ5GkwRQ8vp_9KTB8UVlC=s64",
      "userId": "02694856405090268186"
     },
     "user_tz": -330
    },
    "id": "CLblVmh1HbOY"
   },
   "outputs": [],
   "source": [
    "books.at[209538 ,'Publisher'] = 'DK Publishing Inc'\n",
    "books.at[209538 ,'Year-Of-Publication'] = 2000\n",
    "books.at[209538 ,'Book-Title'] = 'DK Readers: Creating the X-Men, How It All Began (Level 4: Proficient Readers)'\n",
    "books.at[209538 ,'Book-Author'] = 'Michael Teitelbaum'\n",
    "\n",
    "books.at[221678 ,'Publisher'] = 'DK Publishing Inc'\n",
    "books.at[221678 ,'Year-Of-Publication'] = 2000\n",
    "books.at[209538 ,'Book-Title'] = 'DK Readers: Creating the X-Men, How Comic Books Come to Life (Level 4: Proficient Readers)'\n",
    "books.at[209538 ,'Book-Author'] = 'James Buckley'\n",
    "\n",
    "books.at[220731 ,'Publisher'] = 'Gallimard'\n",
    "books.at[220731 ,'Year-Of-Publication'] = '2003'\n",
    "books.at[209538 ,'Book-Title'] = 'Peuple du ciel - Suivi de Les bergers '\n",
    "books.at[209538 ,'Book-Author'] = 'Jean-Marie Gustave Le ClÃ?Â©zio'"
   ]
  },
  {
   "cell_type": "code",
   "execution_count": 14,
   "metadata": {
    "executionInfo": {
     "elapsed": 19,
     "status": "ok",
     "timestamp": 1623912089862,
     "user": {
      "displayName": "Ashima IIITD",
      "photoUrl": "https://lh3.googleusercontent.com/a-/AOh14Gg51iTXizYDNTZkEdwmQ5GkwRQ8vp_9KTB8UVlC=s64",
      "userId": "02694856405090268186"
     },
     "user_tz": -330
    },
    "id": "acUEVhEQHbOb"
   },
   "outputs": [],
   "source": [
    "## Converting year of publication in Numbers\n",
    "books['Year-Of-Publication'] = books['Year-Of-Publication'].astype(int)"
   ]
  },
  {
   "cell_type": "code",
   "execution_count": 15,
   "metadata": {
    "colab": {
     "base_uri": "https://localhost:8080/"
    },
    "executionInfo": {
     "elapsed": 19,
     "status": "ok",
     "timestamp": 1623912089863,
     "user": {
      "displayName": "Ashima IIITD",
      "photoUrl": "https://lh3.googleusercontent.com/a-/AOh14Gg51iTXizYDNTZkEdwmQ5GkwRQ8vp_9KTB8UVlC=s64",
      "userId": "02694856405090268186"
     },
     "user_tz": -330
    },
    "id": "avUSyhPwHbOd",
    "outputId": "1d8deb05-8b79-4917-8740-3d32d10e2d2e"
   },
   "outputs": [
    {
     "name": "stdout",
     "output_type": "stream",
     "text": [
      "[np.int64(0), np.int64(1376), np.int64(1378), np.int64(1806), np.int64(1897), np.int64(1900), np.int64(1901), np.int64(1902), np.int64(1904), np.int64(1906), np.int64(1908), np.int64(1909), np.int64(1910), np.int64(1911), np.int64(1914), np.int64(1917), np.int64(1919), np.int64(1920), np.int64(1921), np.int64(1922), np.int64(1923), np.int64(1924), np.int64(1925), np.int64(1926), np.int64(1927), np.int64(1928), np.int64(1929), np.int64(1930), np.int64(1931), np.int64(1932), np.int64(1933), np.int64(1934), np.int64(1935), np.int64(1936), np.int64(1937), np.int64(1938), np.int64(1939), np.int64(1940), np.int64(1941), np.int64(1942), np.int64(1943), np.int64(1944), np.int64(1945), np.int64(1946), np.int64(1947), np.int64(1948), np.int64(1949), np.int64(1950), np.int64(1951), np.int64(1952), np.int64(1953), np.int64(1954), np.int64(1955), np.int64(1956), np.int64(1957), np.int64(1958), np.int64(1959), np.int64(1960), np.int64(1961), np.int64(1962), np.int64(1963), np.int64(1964), np.int64(1965), np.int64(1966), np.int64(1967), np.int64(1968), np.int64(1969), np.int64(1970), np.int64(1971), np.int64(1972), np.int64(1973), np.int64(1974), np.int64(1975), np.int64(1976), np.int64(1977), np.int64(1978), np.int64(1979), np.int64(1980), np.int64(1981), np.int64(1982), np.int64(1983), np.int64(1984), np.int64(1985), np.int64(1986), np.int64(1987), np.int64(1988), np.int64(1989), np.int64(1990), np.int64(1991), np.int64(1992), np.int64(1993), np.int64(1994), np.int64(1995), np.int64(1996), np.int64(1997), np.int64(1998), np.int64(1999), np.int64(2000), np.int64(2001), np.int64(2002), np.int64(2003), np.int64(2004), np.int64(2005), np.int64(2006), np.int64(2008), np.int64(2010), np.int64(2011), np.int64(2012), np.int64(2020), np.int64(2021), np.int64(2024), np.int64(2026), np.int64(2030), np.int64(2037), np.int64(2038), np.int64(2050)]\n"
     ]
    }
   ],
   "source": [
    "print(sorted(list(books['Year-Of-Publication'].unique())))"
   ]
  },
  {
   "cell_type": "code",
   "execution_count": 16,
   "metadata": {
    "colab": {
     "base_uri": "https://localhost:8080/"
    },
    "executionInfo": {
     "elapsed": 15,
     "status": "ok",
     "timestamp": 1623912089863,
     "user": {
      "displayName": "Ashima IIITD",
      "photoUrl": "https://lh3.googleusercontent.com/a-/AOh14Gg51iTXizYDNTZkEdwmQ5GkwRQ8vp_9KTB8UVlC=s64",
      "userId": "02694856405090268186"
     },
     "user_tz": -330
    },
    "id": "8Mo7fz3nHbOg",
    "outputId": "67ef1018-0ecd-443e-c6b9-5ff8c3b7039f"
   },
   "outputs": [
    {
     "data": {
      "text/plain": [
       "[2002]"
      ]
     },
     "execution_count": 16,
     "metadata": {},
     "output_type": "execute_result"
    }
   ],
   "source": [
    "## Replacing Invalid years with max year\n",
    "count = Counter(books['Year-Of-Publication'])\n",
    "[k for k, v in count.items() if v == max(count.values())]"
   ]
  },
  {
   "cell_type": "code",
   "execution_count": 17,
   "metadata": {
    "executionInfo": {
     "elapsed": 12,
     "status": "ok",
     "timestamp": 1623912089864,
     "user": {
      "displayName": "Ashima IIITD",
      "photoUrl": "https://lh3.googleusercontent.com/a-/AOh14Gg51iTXizYDNTZkEdwmQ5GkwRQ8vp_9KTB8UVlC=s64",
      "userId": "02694856405090268186"
     },
     "user_tz": -330
    },
    "id": "rUBTN5NcHbOl"
   },
   "outputs": [],
   "source": [
    "books.loc[books['Year-Of-Publication'] > 2021, 'Year-Of-Publication'] = 2002\n",
    "books.loc[books['Year-Of-Publication'] == 0, 'Year-Of-Publication'] = 2002"
   ]
  },
  {
   "cell_type": "code",
   "execution_count": 18,
   "metadata": {
    "executionInfo": {
     "elapsed": 12,
     "status": "ok",
     "timestamp": 1623912089864,
     "user": {
      "displayName": "Ashima IIITD",
      "photoUrl": "https://lh3.googleusercontent.com/a-/AOh14Gg51iTXizYDNTZkEdwmQ5GkwRQ8vp_9KTB8UVlC=s64",
      "userId": "02694856405090268186"
     },
     "user_tz": -330
    },
    "id": "jplGFvIISnEW"
   },
   "outputs": [],
   "source": [
    "## Uppercasing all alphabets in ISBN\n",
    "books['ISBN'] = books['ISBN'].str.upper()"
   ]
  },
  {
   "cell_type": "code",
   "execution_count": 19,
   "metadata": {
    "executionInfo": {
     "elapsed": 12,
     "status": "ok",
     "timestamp": 1623912089865,
     "user": {
      "displayName": "Ashima IIITD",
      "photoUrl": "https://lh3.googleusercontent.com/a-/AOh14Gg51iTXizYDNTZkEdwmQ5GkwRQ8vp_9KTB8UVlC=s64",
      "userId": "02694856405090268186"
     },
     "user_tz": -330
    },
    "id": "fqd1CGiOo4mx"
   },
   "outputs": [],
   "source": [
    "## Drop duplicate rows\n",
    "books.drop_duplicates(keep='last', inplace=True) \n",
    "books.reset_index(drop = True, inplace = True)"
   ]
  },
  {
   "cell_type": "code",
   "execution_count": 20,
   "metadata": {
    "colab": {
     "base_uri": "https://localhost:8080/"
    },
    "executionInfo": {
     "elapsed": 704,
     "status": "ok",
     "timestamp": 1623912090557,
     "user": {
      "displayName": "Ashima IIITD",
      "photoUrl": "https://lh3.googleusercontent.com/a-/AOh14Gg51iTXizYDNTZkEdwmQ5GkwRQ8vp_9KTB8UVlC=s64",
      "userId": "02694856405090268186"
     },
     "user_tz": -330
    },
    "id": "qEJLCHTzHbOp",
    "outputId": "a83a2e43-432f-4961-f3b6-820972eac04c"
   },
   "outputs": [
    {
     "name": "stdout",
     "output_type": "stream",
     "text": [
      "<class 'pandas.core.frame.DataFrame'>\n",
      "RangeIndex: 271047 entries, 0 to 271046\n",
      "Data columns (total 5 columns):\n",
      " #   Column               Non-Null Count   Dtype \n",
      "---  ------               --------------   ----- \n",
      " 0   ISBN                 271047 non-null  object\n",
      " 1   Book-Title           271047 non-null  object\n",
      " 2   Book-Author          271046 non-null  object\n",
      " 3   Year-Of-Publication  271047 non-null  int64 \n",
      " 4   Publisher            271047 non-null  object\n",
      "dtypes: int64(1), object(4)\n",
      "memory usage: 10.3+ MB\n"
     ]
    }
   ],
   "source": [
    "books.info()"
   ]
  },
  {
   "cell_type": "code",
   "execution_count": 21,
   "metadata": {
    "colab": {
     "base_uri": "https://localhost:8080/",
     "height": 204
    },
    "executionInfo": {
     "elapsed": 25,
     "status": "ok",
     "timestamp": 1623912090558,
     "user": {
      "displayName": "Ashima IIITD",
      "photoUrl": "https://lh3.googleusercontent.com/a-/AOh14Gg51iTXizYDNTZkEdwmQ5GkwRQ8vp_9KTB8UVlC=s64",
      "userId": "02694856405090268186"
     },
     "user_tz": -330
    },
    "id": "F6dXwCPwK6hb",
    "outputId": "4aa13490-0959-4fb6-b012-6ea44a97548d"
   },
   "outputs": [
    {
     "data": {
      "text/html": [
       "<div>\n",
       "<style scoped>\n",
       "    .dataframe tbody tr th:only-of-type {\n",
       "        vertical-align: middle;\n",
       "    }\n",
       "\n",
       "    .dataframe tbody tr th {\n",
       "        vertical-align: top;\n",
       "    }\n",
       "\n",
       "    .dataframe thead th {\n",
       "        text-align: right;\n",
       "    }\n",
       "</style>\n",
       "<table border=\"1\" class=\"dataframe\">\n",
       "  <thead>\n",
       "    <tr style=\"text-align: right;\">\n",
       "      <th></th>\n",
       "      <th>ISBN</th>\n",
       "      <th>Book-Title</th>\n",
       "      <th>Book-Author</th>\n",
       "      <th>Year-Of-Publication</th>\n",
       "      <th>Publisher</th>\n",
       "    </tr>\n",
       "  </thead>\n",
       "  <tbody>\n",
       "    <tr>\n",
       "      <th>0</th>\n",
       "      <td>0195153448</td>\n",
       "      <td>Classical Mythology</td>\n",
       "      <td>Mark P. O. Morford</td>\n",
       "      <td>2002</td>\n",
       "      <td>Oxford University Press</td>\n",
       "    </tr>\n",
       "    <tr>\n",
       "      <th>1</th>\n",
       "      <td>0002005018</td>\n",
       "      <td>Clara Callan</td>\n",
       "      <td>Richard Bruce Wright</td>\n",
       "      <td>2001</td>\n",
       "      <td>HarperFlamingo Canada</td>\n",
       "    </tr>\n",
       "    <tr>\n",
       "      <th>2</th>\n",
       "      <td>0060973129</td>\n",
       "      <td>Decision in Normandy</td>\n",
       "      <td>Carlo D'Este</td>\n",
       "      <td>1991</td>\n",
       "      <td>HarperPerennial</td>\n",
       "    </tr>\n",
       "    <tr>\n",
       "      <th>3</th>\n",
       "      <td>0374157065</td>\n",
       "      <td>Flu: The Story of the Great Influenza Pandemic of 1918 and the Search for the Virus That Caused It</td>\n",
       "      <td>Gina Bari Kolata</td>\n",
       "      <td>1999</td>\n",
       "      <td>Farrar Straus Giroux</td>\n",
       "    </tr>\n",
       "    <tr>\n",
       "      <th>4</th>\n",
       "      <td>0393045218</td>\n",
       "      <td>The Mummies of Urumchi</td>\n",
       "      <td>E. J. W. Barber</td>\n",
       "      <td>1999</td>\n",
       "      <td>W. W. Norton &amp;amp; Company</td>\n",
       "    </tr>\n",
       "  </tbody>\n",
       "</table>\n",
       "</div>"
      ],
      "text/plain": [
       "         ISBN  \\\n",
       "0  0195153448   \n",
       "1  0002005018   \n",
       "2  0060973129   \n",
       "3  0374157065   \n",
       "4  0393045218   \n",
       "\n",
       "                                                                                           Book-Title  \\\n",
       "0                                                                                 Classical Mythology   \n",
       "1                                                                                        Clara Callan   \n",
       "2                                                                                Decision in Normandy   \n",
       "3  Flu: The Story of the Great Influenza Pandemic of 1918 and the Search for the Virus That Caused It   \n",
       "4                                                                              The Mummies of Urumchi   \n",
       "\n",
       "            Book-Author  Year-Of-Publication                   Publisher  \n",
       "0    Mark P. O. Morford                 2002     Oxford University Press  \n",
       "1  Richard Bruce Wright                 2001       HarperFlamingo Canada  \n",
       "2          Carlo D'Este                 1991             HarperPerennial  \n",
       "3      Gina Bari Kolata                 1999        Farrar Straus Giroux  \n",
       "4       E. J. W. Barber                 1999  W. W. Norton &amp; Company  "
      ]
     },
     "execution_count": 21,
     "metadata": {},
     "output_type": "execute_result"
    }
   ],
   "source": [
    "books.head()"
   ]
  },
  {
   "cell_type": "markdown",
   "metadata": {
    "id": "Q3RUi91KHbPQ"
   },
   "source": [
    "<b>Users Dataset Pre-processing"
   ]
  },
  {
   "cell_type": "code",
   "execution_count": 22,
   "metadata": {
    "colab": {
     "base_uri": "https://localhost:8080/",
     "height": 221
    },
    "executionInfo": {
     "elapsed": 24,
     "status": "ok",
     "timestamp": 1623912090558,
     "user": {
      "displayName": "Ashima IIITD",
      "photoUrl": "https://lh3.googleusercontent.com/a-/AOh14Gg51iTXizYDNTZkEdwmQ5GkwRQ8vp_9KTB8UVlC=s64",
      "userId": "02694856405090268186"
     },
     "user_tz": -330
    },
    "id": "shXVpl1le_4f",
    "outputId": "ddd49246-2626-43c6-c01e-adf997324c94"
   },
   "outputs": [
    {
     "name": "stdout",
     "output_type": "stream",
     "text": [
      "Columns:  ['User-ID', 'Location', 'Age']\n"
     ]
    },
    {
     "data": {
      "text/html": [
       "<div>\n",
       "<style scoped>\n",
       "    .dataframe tbody tr th:only-of-type {\n",
       "        vertical-align: middle;\n",
       "    }\n",
       "\n",
       "    .dataframe tbody tr th {\n",
       "        vertical-align: top;\n",
       "    }\n",
       "\n",
       "    .dataframe thead th {\n",
       "        text-align: right;\n",
       "    }\n",
       "</style>\n",
       "<table border=\"1\" class=\"dataframe\">\n",
       "  <thead>\n",
       "    <tr style=\"text-align: right;\">\n",
       "      <th></th>\n",
       "      <th>User-ID</th>\n",
       "      <th>Location</th>\n",
       "      <th>Age</th>\n",
       "    </tr>\n",
       "  </thead>\n",
       "  <tbody>\n",
       "    <tr>\n",
       "      <th>0</th>\n",
       "      <td>1</td>\n",
       "      <td>nyc, new york, usa</td>\n",
       "      <td>NaN</td>\n",
       "    </tr>\n",
       "    <tr>\n",
       "      <th>1</th>\n",
       "      <td>2</td>\n",
       "      <td>stockton, california, usa</td>\n",
       "      <td>18.0</td>\n",
       "    </tr>\n",
       "    <tr>\n",
       "      <th>2</th>\n",
       "      <td>3</td>\n",
       "      <td>moscow, yukon territory, russia</td>\n",
       "      <td>NaN</td>\n",
       "    </tr>\n",
       "    <tr>\n",
       "      <th>3</th>\n",
       "      <td>4</td>\n",
       "      <td>porto, v.n.gaia, portugal</td>\n",
       "      <td>17.0</td>\n",
       "    </tr>\n",
       "    <tr>\n",
       "      <th>4</th>\n",
       "      <td>5</td>\n",
       "      <td>farnborough, hants, united kingdom</td>\n",
       "      <td>NaN</td>\n",
       "    </tr>\n",
       "  </tbody>\n",
       "</table>\n",
       "</div>"
      ],
      "text/plain": [
       "   User-ID                            Location   Age\n",
       "0        1                  nyc, new york, usa   NaN\n",
       "1        2           stockton, california, usa  18.0\n",
       "2        3     moscow, yukon territory, russia   NaN\n",
       "3        4           porto, v.n.gaia, portugal  17.0\n",
       "4        5  farnborough, hants, united kingdom   NaN"
      ]
     },
     "execution_count": 22,
     "metadata": {},
     "output_type": "execute_result"
    }
   ],
   "source": [
    "print(\"Columns: \", list(users.columns))\n",
    "users.head()"
   ]
  },
  {
   "cell_type": "code",
   "execution_count": 23,
   "metadata": {
    "colab": {
     "base_uri": "https://localhost:8080/"
    },
    "executionInfo": {
     "elapsed": 19,
     "status": "ok",
     "timestamp": 1623912090559,
     "user": {
      "displayName": "Ashima IIITD",
      "photoUrl": "https://lh3.googleusercontent.com/a-/AOh14Gg51iTXizYDNTZkEdwmQ5GkwRQ8vp_9KTB8UVlC=s64",
      "userId": "02694856405090268186"
     },
     "user_tz": -330
    },
    "id": "IgUWcug6HbPR",
    "outputId": "33afab7a-92de-4e36-d755-8225397da763"
   },
   "outputs": [
    {
     "name": "stdout",
     "output_type": "stream",
     "text": [
      "User-ID          0\n",
      "Location         0\n",
      "Age         110762\n",
      "dtype: int64\n"
     ]
    }
   ],
   "source": [
    "## Checking null values\n",
    "print(users.isna().sum())               "
   ]
  },
  {
   "cell_type": "code",
   "execution_count": 24,
   "metadata": {
    "colab": {
     "base_uri": "https://localhost:8080/"
    },
    "executionInfo": {
     "elapsed": 16,
     "status": "ok",
     "timestamp": 1623912090559,
     "user": {
      "displayName": "Ashima IIITD",
      "photoUrl": "https://lh3.googleusercontent.com/a-/AOh14Gg51iTXizYDNTZkEdwmQ5GkwRQ8vp_9KTB8UVlC=s64",
      "userId": "02694856405090268186"
     },
     "user_tz": -330
    },
    "id": "hZBdnU-idiZv",
    "outputId": "b12343ad-0722-4702-8ef2-83165ce14d2a"
   },
   "outputs": [
    {
     "name": "stdout",
     "output_type": "stream",
     "text": [
      "[np.float64(nan), np.float64(0.0), np.float64(1.0), np.float64(2.0), np.float64(3.0), np.float64(4.0), np.float64(5.0), np.float64(6.0), np.float64(7.0), np.float64(8.0), np.float64(9.0), np.float64(10.0), np.float64(11.0), np.float64(12.0), np.float64(13.0), np.float64(14.0), np.float64(15.0), np.float64(16.0), np.float64(17.0), np.float64(18.0), np.float64(19.0), np.float64(20.0), np.float64(21.0), np.float64(22.0), np.float64(23.0), np.float64(24.0), np.float64(25.0), np.float64(26.0), np.float64(27.0), np.float64(28.0), np.float64(29.0), np.float64(30.0), np.float64(31.0), np.float64(32.0), np.float64(33.0), np.float64(34.0), np.float64(35.0), np.float64(36.0), np.float64(37.0), np.float64(38.0), np.float64(39.0), np.float64(40.0), np.float64(41.0), np.float64(42.0), np.float64(43.0), np.float64(44.0), np.float64(45.0), np.float64(46.0), np.float64(47.0), np.float64(48.0), np.float64(49.0), np.float64(50.0), np.float64(51.0), np.float64(52.0), np.float64(53.0), np.float64(54.0), np.float64(55.0), np.float64(56.0), np.float64(57.0), np.float64(58.0), np.float64(59.0), np.float64(60.0), np.float64(61.0), np.float64(62.0), np.float64(63.0), np.float64(64.0), np.float64(65.0), np.float64(66.0), np.float64(67.0), np.float64(68.0), np.float64(69.0), np.float64(70.0), np.float64(71.0), np.float64(72.0), np.float64(73.0), np.float64(74.0), np.float64(75.0), np.float64(76.0), np.float64(77.0), np.float64(78.0), np.float64(79.0), np.float64(80.0), np.float64(81.0), np.float64(82.0), np.float64(83.0), np.float64(84.0), np.float64(85.0), np.float64(86.0), np.float64(87.0), np.float64(88.0), np.float64(89.0), np.float64(90.0), np.float64(91.0), np.float64(92.0), np.float64(93.0), np.float64(94.0), np.float64(95.0), np.float64(96.0), np.float64(97.0), np.float64(98.0), np.float64(99.0), np.float64(100.0), np.float64(101.0), np.float64(102.0), np.float64(103.0), np.float64(104.0), np.float64(105.0), np.float64(106.0), np.float64(107.0), np.float64(108.0), np.float64(109.0), np.float64(110.0), np.float64(111.0), np.float64(113.0), np.float64(114.0), np.float64(115.0), np.float64(116.0), np.float64(118.0), np.float64(119.0), np.float64(123.0), np.float64(124.0), np.float64(127.0), np.float64(128.0), np.float64(132.0), np.float64(133.0), np.float64(136.0), np.float64(137.0), np.float64(138.0), np.float64(140.0), np.float64(141.0), np.float64(143.0), np.float64(146.0), np.float64(147.0), np.float64(148.0), np.float64(151.0), np.float64(152.0), np.float64(156.0), np.float64(157.0), np.float64(159.0), np.float64(162.0), np.float64(168.0), np.float64(172.0), np.float64(175.0), np.float64(183.0), np.float64(186.0), np.float64(189.0), np.float64(199.0), np.float64(200.0), np.float64(201.0), np.float64(204.0), np.float64(207.0), np.float64(208.0), np.float64(209.0), np.float64(210.0), np.float64(212.0), np.float64(219.0), np.float64(220.0), np.float64(223.0), np.float64(226.0), np.float64(228.0), np.float64(229.0), np.float64(230.0), np.float64(231.0), np.float64(237.0), np.float64(239.0), np.float64(244.0)]\n"
     ]
    }
   ],
   "source": [
    "## Check for all values present in Age column\n",
    "print(sorted(list(users['Age'].unique())))"
   ]
  },
  {
   "cell_type": "code",
   "execution_count": 25,
   "metadata": {
    "executionInfo": {
     "elapsed": 14,
     "status": "ok",
     "timestamp": 1623912090560,
     "user": {
      "displayName": "Ashima IIITD",
      "photoUrl": "https://lh3.googleusercontent.com/a-/AOh14Gg51iTXizYDNTZkEdwmQ5GkwRQ8vp_9KTB8UVlC=s64",
      "userId": "02694856405090268186"
     },
     "user_tz": -330
    },
    "id": "H3dNYNstdiik"
   },
   "outputs": [],
   "source": [
    "required = users[users['Age'] <= 80]\n",
    "required = required[required['Age'] >= 10]"
   ]
  },
  {
   "cell_type": "code",
   "execution_count": 26,
   "metadata": {
    "colab": {
     "base_uri": "https://localhost:8080/"
    },
    "executionInfo": {
     "elapsed": 13,
     "status": "ok",
     "timestamp": 1623912090560,
     "user": {
      "displayName": "Ashima IIITD",
      "photoUrl": "https://lh3.googleusercontent.com/a-/AOh14Gg51iTXizYDNTZkEdwmQ5GkwRQ8vp_9KTB8UVlC=s64",
      "userId": "02694856405090268186"
     },
     "user_tz": -330
    },
    "id": "0KVi6a6bd_Yo",
    "outputId": "7eb43572-b05b-4003-d1aa-1be23858e9ca"
   },
   "outputs": [
    {
     "data": {
      "text/plain": [
       "35"
      ]
     },
     "execution_count": 26,
     "metadata": {},
     "output_type": "execute_result"
    }
   ],
   "source": [
    "mean = round(required['Age'].mean())   \n",
    "mean"
   ]
  },
  {
   "cell_type": "code",
   "execution_count": 27,
   "metadata": {
    "executionInfo": {
     "elapsed": 11,
     "status": "ok",
     "timestamp": 1623912090561,
     "user": {
      "displayName": "Ashima IIITD",
      "photoUrl": "https://lh3.googleusercontent.com/a-/AOh14Gg51iTXizYDNTZkEdwmQ5GkwRQ8vp_9KTB8UVlC=s64",
      "userId": "02694856405090268186"
     },
     "user_tz": -330
    },
    "id": "C1YOTtiNNDYp"
   },
   "outputs": [],
   "source": [
    "users.loc[users['Age'] > 80, 'Age'] = mean    #outliers with age grater than 80 are substituted with mean \n",
    "users.loc[users['Age'] < 10, 'Age'] = mean    #outliers with age less than 10 years are substitued with mean\n",
    "users['Age'] = users['Age'].fillna(mean)      #filling null values with mean\n",
    "users['Age'] = users['Age'].astype(int)       #changing Datatype to int"
   ]
  },
  {
   "cell_type": "code",
   "execution_count": 28,
   "metadata": {
    "colab": {
     "base_uri": "https://localhost:8080/"
    },
    "executionInfo": {
     "elapsed": 18207,
     "status": "ok",
     "timestamp": 1623912108757,
     "user": {
      "displayName": "Ashima IIITD",
      "photoUrl": "https://lh3.googleusercontent.com/a-/AOh14Gg51iTXizYDNTZkEdwmQ5GkwRQ8vp_9KTB8UVlC=s64",
      "userId": "02694856405090268186"
     },
     "user_tz": -330
    },
    "id": "2StAXDft_6qg",
    "outputId": "429b3beb-739f-4ca4-f4a0-749b3cd1be1a"
   },
   "outputs": [
    {
     "name": "stdout",
     "output_type": "stream",
     "text": [
      "4659\n",
      "16044\n"
     ]
    }
   ],
   "source": [
    "list_ = users.Location.str.split(', ')\n",
    "\n",
    "city = []\n",
    "state = []\n",
    "country = []\n",
    "count_no_state = 0    \n",
    "count_no_country = 0\n",
    "\n",
    "for i in range(0,len(list_)):\n",
    "    if list_[i][0] == ' ' or list_[i][0] == '' or list_[i][0]=='n/a' or list_[i][0] == ',':  #removing invalid entries too\n",
    "        city.append('other')\n",
    "    else:\n",
    "        city.append(list_[i][0].lower())\n",
    "\n",
    "    if(len(list_[i])<2):\n",
    "        state.append('other')\n",
    "        country.append('other')\n",
    "        count_no_state += 1\n",
    "        count_no_country += 1\n",
    "    else:\n",
    "        if list_[i][1] == ' ' or list_[i][1] == '' or list_[i][1]=='n/a' or list_[i][1] == ',':   #removing invalid entries \n",
    "            state.append('other')\n",
    "            count_no_state += 1            \n",
    "        else:\n",
    "            state.append(list_[i][1].lower())\n",
    "        \n",
    "        if(len(list_[i])<3):\n",
    "            country.append('other')\n",
    "            count_no_country += 1\n",
    "        else:\n",
    "            if list_[i][2] == ''or list_[i][1] == ',' or list_[i][2] == ' ' or list_[i][2] == 'n/a':\n",
    "                country.append('other')\n",
    "                count_no_country += 1\n",
    "            else:\n",
    "                country.append(list_[i][2].lower())\n",
    "        \n",
    "users = users.drop('Location',axis=1)\n",
    "\n",
    "temp = []\n",
    "for ent in city:\n",
    "    c = ent.split('/')            #handling cases where city/state entries from city list as state is already given \n",
    "    temp.append(c[0])\n",
    "\n",
    "df_city = pd.DataFrame(temp,columns=['City'])\n",
    "df_state = pd.DataFrame(state,columns=['State'])\n",
    "df_country = pd.DataFrame(country,columns=['Country'])\n",
    "\n",
    "users = pd.concat([users, df_city], axis=1)\n",
    "users = pd.concat([users, df_state], axis=1)\n",
    "users = pd.concat([users, df_country], axis=1)\n",
    "\n",
    "print(count_no_country)   #printing the number of countries didnt have any values \n",
    "print(count_no_state)     #printing the states which didnt have any values"
   ]
  },
  {
   "cell_type": "code",
   "execution_count": 29,
   "metadata": {
    "executionInfo": {
     "elapsed": 23,
     "status": "ok",
     "timestamp": 1623912108758,
     "user": {
      "displayName": "Ashima IIITD",
      "photoUrl": "https://lh3.googleusercontent.com/a-/AOh14Gg51iTXizYDNTZkEdwmQ5GkwRQ8vp_9KTB8UVlC=s64",
      "userId": "02694856405090268186"
     },
     "user_tz": -330
    },
    "id": "NqkVvAytpNUe"
   },
   "outputs": [],
   "source": [
    "## Drop duplicate rows\n",
    "users.drop_duplicates(keep='last', inplace=True)\n",
    "users.reset_index(drop=True, inplace=True)"
   ]
  },
  {
   "cell_type": "code",
   "execution_count": 30,
   "metadata": {
    "colab": {
     "base_uri": "https://localhost:8080/"
    },
    "executionInfo": {
     "elapsed": 23,
     "status": "ok",
     "timestamp": 1623912108759,
     "user": {
      "displayName": "Ashima IIITD",
      "photoUrl": "https://lh3.googleusercontent.com/a-/AOh14Gg51iTXizYDNTZkEdwmQ5GkwRQ8vp_9KTB8UVlC=s64",
      "userId": "02694856405090268186"
     },
     "user_tz": -330
    },
    "id": "cF_aI6ObPXiE",
    "outputId": "72df13ee-ef47-44ae-f7a6-c3594eb16123"
   },
   "outputs": [
    {
     "name": "stdout",
     "output_type": "stream",
     "text": [
      "<class 'pandas.core.frame.DataFrame'>\n",
      "RangeIndex: 278858 entries, 0 to 278857\n",
      "Data columns (total 5 columns):\n",
      " #   Column   Non-Null Count   Dtype \n",
      "---  ------   --------------   ----- \n",
      " 0   User-ID  278858 non-null  int64 \n",
      " 1   Age      278858 non-null  int64 \n",
      " 2   City     278858 non-null  object\n",
      " 3   State    278858 non-null  object\n",
      " 4   Country  278858 non-null  object\n",
      "dtypes: int64(2), object(3)\n",
      "memory usage: 10.6+ MB\n"
     ]
    }
   ],
   "source": [
    "users.info()"
   ]
  },
  {
   "cell_type": "code",
   "execution_count": 31,
   "metadata": {
    "colab": {
     "base_uri": "https://localhost:8080/",
     "height": 204
    },
    "executionInfo": {
     "elapsed": 16,
     "status": "ok",
     "timestamp": 1623912108759,
     "user": {
      "displayName": "Ashima IIITD",
      "photoUrl": "https://lh3.googleusercontent.com/a-/AOh14Gg51iTXizYDNTZkEdwmQ5GkwRQ8vp_9KTB8UVlC=s64",
      "userId": "02694856405090268186"
     },
     "user_tz": -330
    },
    "id": "9G6vM-BYLNFf",
    "outputId": "c93373b0-8213-4962-f8fb-d9444f08b078"
   },
   "outputs": [
    {
     "data": {
      "text/html": [
       "<div>\n",
       "<style scoped>\n",
       "    .dataframe tbody tr th:only-of-type {\n",
       "        vertical-align: middle;\n",
       "    }\n",
       "\n",
       "    .dataframe tbody tr th {\n",
       "        vertical-align: top;\n",
       "    }\n",
       "\n",
       "    .dataframe thead th {\n",
       "        text-align: right;\n",
       "    }\n",
       "</style>\n",
       "<table border=\"1\" class=\"dataframe\">\n",
       "  <thead>\n",
       "    <tr style=\"text-align: right;\">\n",
       "      <th></th>\n",
       "      <th>User-ID</th>\n",
       "      <th>Age</th>\n",
       "      <th>City</th>\n",
       "      <th>State</th>\n",
       "      <th>Country</th>\n",
       "    </tr>\n",
       "  </thead>\n",
       "  <tbody>\n",
       "    <tr>\n",
       "      <th>0</th>\n",
       "      <td>1</td>\n",
       "      <td>35</td>\n",
       "      <td>nyc</td>\n",
       "      <td>new york</td>\n",
       "      <td>usa</td>\n",
       "    </tr>\n",
       "    <tr>\n",
       "      <th>1</th>\n",
       "      <td>2</td>\n",
       "      <td>18</td>\n",
       "      <td>stockton</td>\n",
       "      <td>california</td>\n",
       "      <td>usa</td>\n",
       "    </tr>\n",
       "    <tr>\n",
       "      <th>2</th>\n",
       "      <td>3</td>\n",
       "      <td>35</td>\n",
       "      <td>moscow</td>\n",
       "      <td>yukon territory</td>\n",
       "      <td>russia</td>\n",
       "    </tr>\n",
       "    <tr>\n",
       "      <th>3</th>\n",
       "      <td>4</td>\n",
       "      <td>17</td>\n",
       "      <td>porto</td>\n",
       "      <td>v.n.gaia</td>\n",
       "      <td>portugal</td>\n",
       "    </tr>\n",
       "    <tr>\n",
       "      <th>4</th>\n",
       "      <td>5</td>\n",
       "      <td>35</td>\n",
       "      <td>farnborough</td>\n",
       "      <td>hants</td>\n",
       "      <td>united kingdom</td>\n",
       "    </tr>\n",
       "  </tbody>\n",
       "</table>\n",
       "</div>"
      ],
      "text/plain": [
       "   User-ID  Age         City            State         Country\n",
       "0        1   35          nyc         new york             usa\n",
       "1        2   18     stockton       california             usa\n",
       "2        3   35       moscow  yukon territory          russia\n",
       "3        4   17        porto         v.n.gaia        portugal\n",
       "4        5   35  farnborough            hants  united kingdom"
      ]
     },
     "execution_count": 31,
     "metadata": {},
     "output_type": "execute_result"
    }
   ],
   "source": [
    "users.head()"
   ]
  },
  {
   "cell_type": "markdown",
   "metadata": {
    "id": "T2ALKysTHbPb"
   },
   "source": [
    "<b>Books-Ratings Dataset Pre-processing"
   ]
  },
  {
   "cell_type": "code",
   "execution_count": 32,
   "metadata": {
    "colab": {
     "base_uri": "https://localhost:8080/",
     "height": 221
    },
    "executionInfo": {
     "elapsed": 653,
     "status": "ok",
     "timestamp": 1623912109397,
     "user": {
      "displayName": "Ashima IIITD",
      "photoUrl": "https://lh3.googleusercontent.com/a-/AOh14Gg51iTXizYDNTZkEdwmQ5GkwRQ8vp_9KTB8UVlC=s64",
      "userId": "02694856405090268186"
     },
     "user_tz": -330
    },
    "id": "rFGWikWJgYaC",
    "outputId": "41431b40-2940-4a3b-f728-8f475e66d179"
   },
   "outputs": [
    {
     "name": "stdout",
     "output_type": "stream",
     "text": [
      "Columns:  ['User-ID', 'ISBN', 'Book-Rating']\n"
     ]
    },
    {
     "data": {
      "text/html": [
       "<div>\n",
       "<style scoped>\n",
       "    .dataframe tbody tr th:only-of-type {\n",
       "        vertical-align: middle;\n",
       "    }\n",
       "\n",
       "    .dataframe tbody tr th {\n",
       "        vertical-align: top;\n",
       "    }\n",
       "\n",
       "    .dataframe thead th {\n",
       "        text-align: right;\n",
       "    }\n",
       "</style>\n",
       "<table border=\"1\" class=\"dataframe\">\n",
       "  <thead>\n",
       "    <tr style=\"text-align: right;\">\n",
       "      <th></th>\n",
       "      <th>User-ID</th>\n",
       "      <th>ISBN</th>\n",
       "      <th>Book-Rating</th>\n",
       "    </tr>\n",
       "  </thead>\n",
       "  <tbody>\n",
       "    <tr>\n",
       "      <th>0</th>\n",
       "      <td>276725</td>\n",
       "      <td>034545104X</td>\n",
       "      <td>0</td>\n",
       "    </tr>\n",
       "    <tr>\n",
       "      <th>1</th>\n",
       "      <td>276726</td>\n",
       "      <td>0155061224</td>\n",
       "      <td>5</td>\n",
       "    </tr>\n",
       "    <tr>\n",
       "      <th>2</th>\n",
       "      <td>276727</td>\n",
       "      <td>0446520802</td>\n",
       "      <td>0</td>\n",
       "    </tr>\n",
       "    <tr>\n",
       "      <th>3</th>\n",
       "      <td>276729</td>\n",
       "      <td>052165615X</td>\n",
       "      <td>3</td>\n",
       "    </tr>\n",
       "    <tr>\n",
       "      <th>4</th>\n",
       "      <td>276729</td>\n",
       "      <td>0521795028</td>\n",
       "      <td>6</td>\n",
       "    </tr>\n",
       "  </tbody>\n",
       "</table>\n",
       "</div>"
      ],
      "text/plain": [
       "   User-ID        ISBN  Book-Rating\n",
       "0   276725  034545104X            0\n",
       "1   276726  0155061224            5\n",
       "2   276727  0446520802            0\n",
       "3   276729  052165615X            3\n",
       "4   276729  0521795028            6"
      ]
     },
     "execution_count": 32,
     "metadata": {},
     "output_type": "execute_result"
    }
   ],
   "source": [
    "print(\"Columns: \", list(ratings.columns))\n",
    "ratings.head()"
   ]
  },
  {
   "cell_type": "code",
   "execution_count": 33,
   "metadata": {
    "colab": {
     "base_uri": "https://localhost:8080/"
    },
    "executionInfo": {
     "elapsed": 17,
     "status": "ok",
     "timestamp": 1623912109398,
     "user": {
      "displayName": "Ashima IIITD",
      "photoUrl": "https://lh3.googleusercontent.com/a-/AOh14Gg51iTXizYDNTZkEdwmQ5GkwRQ8vp_9KTB8UVlC=s64",
      "userId": "02694856405090268186"
     },
     "user_tz": -330
    },
    "id": "CiA4xbv0HbPc",
    "outputId": "c09d339d-e697-4f9f-ade8-975fa5edd787"
   },
   "outputs": [
    {
     "data": {
      "text/plain": [
       "User-ID        0\n",
       "ISBN           0\n",
       "Book-Rating    0\n",
       "dtype: int64"
      ]
     },
     "execution_count": 33,
     "metadata": {},
     "output_type": "execute_result"
    }
   ],
   "source": [
    "## Checking for null values\n",
    "ratings.isnull().sum() "
   ]
  },
  {
   "cell_type": "code",
   "execution_count": 34,
   "metadata": {
    "colab": {
     "base_uri": "https://localhost:8080/"
    },
    "executionInfo": {
     "elapsed": 14,
     "status": "ok",
     "timestamp": 1623912109399,
     "user": {
      "displayName": "Ashima IIITD",
      "photoUrl": "https://lh3.googleusercontent.com/a-/AOh14Gg51iTXizYDNTZkEdwmQ5GkwRQ8vp_9KTB8UVlC=s64",
      "userId": "02694856405090268186"
     },
     "user_tz": -330
    },
    "id": "nb-2TTxhKTuO",
    "outputId": "59c920a2-ed79-4be6-e3b1-90ea046d090a"
   },
   "outputs": [
    {
     "name": "stdout",
     "output_type": "stream",
     "text": [
      "True\n"
     ]
    }
   ],
   "source": [
    "## checking all ratings number or not\n",
    "print(is_numeric_dtype(ratings['Book-Rating']))"
   ]
  },
  {
   "cell_type": "code",
   "execution_count": 35,
   "metadata": {
    "colab": {
     "base_uri": "https://localhost:8080/"
    },
    "executionInfo": {
     "elapsed": 11,
     "status": "ok",
     "timestamp": 1623912109399,
     "user": {
      "displayName": "Ashima IIITD",
      "photoUrl": "https://lh3.googleusercontent.com/a-/AOh14Gg51iTXizYDNTZkEdwmQ5GkwRQ8vp_9KTB8UVlC=s64",
      "userId": "02694856405090268186"
     },
     "user_tz": -330
    },
    "id": "nn0PjIPnKT0C",
    "outputId": "4ebf160c-03e2-4ccc-8a40-62dcb7e97da2"
   },
   "outputs": [
    {
     "name": "stdout",
     "output_type": "stream",
     "text": [
      "True\n"
     ]
    }
   ],
   "source": [
    "## checking User-ID contains only number or not\n",
    "print(is_numeric_dtype(ratings['User-ID']))"
   ]
  },
  {
   "cell_type": "code",
   "execution_count": 36,
   "metadata": {
    "colab": {
     "base_uri": "https://localhost:8080/"
    },
    "executionInfo": {
     "elapsed": 1303,
     "status": "ok",
     "timestamp": 1623912110694,
     "user": {
      "displayName": "Ashima IIITD",
      "photoUrl": "https://lh3.googleusercontent.com/a-/AOh14Gg51iTXizYDNTZkEdwmQ5GkwRQ8vp_9KTB8UVlC=s64",
      "userId": "02694856405090268186"
     },
     "user_tz": -330
    },
    "id": "j_QhbeNCKT30",
    "outputId": "f832463f-7c36-487f-ac87-bf34dd7a15b4"
   },
   "outputs": [
    {
     "name": "stdout",
     "output_type": "stream",
     "text": [
      "False\n"
     ]
    }
   ],
   "source": [
    "## checking ISBN\n",
    "flag = 0\n",
    "k =[]\n",
    "reg = \"[^A-Za-z0-9]\"\n",
    "\n",
    "for x in ratings['ISBN']:\n",
    "    z = re.search(reg,x)    \n",
    "    if z:\n",
    "        flag = 1\n",
    "\n",
    "if flag == 1:\n",
    "    print(\"False\")\n",
    "else:\n",
    "    print(\"True\")"
   ]
  },
  {
   "cell_type": "code",
   "execution_count": 37,
   "metadata": {
    "executionInfo": {
     "elapsed": 94722,
     "status": "ok",
     "timestamp": 1623912205414,
     "user": {
      "displayName": "Ashima IIITD",
      "photoUrl": "https://lh3.googleusercontent.com/a-/AOh14Gg51iTXizYDNTZkEdwmQ5GkwRQ8vp_9KTB8UVlC=s64",
      "userId": "02694856405090268186"
     },
     "user_tz": -330
    },
    "id": "PoUNkGMqKUJs"
   },
   "outputs": [],
   "source": [
    "## removing extra characters from ISBN (from ratings dataset) existing in books dataset\n",
    "bookISBN = books['ISBN'].tolist() \n",
    "reg = \"[^A-Za-z0-9]\" \n",
    "for index, row_Value in ratings.iterrows():\n",
    "    z = re.search(reg, row_Value['ISBN'])    \n",
    "    if z:\n",
    "        f = re.sub(reg,\"\",row_Value['ISBN'])\n",
    "        if f in bookISBN:\n",
    "            ratings.at[index , 'ISBN'] = f"
   ]
  },
  {
   "cell_type": "code",
   "execution_count": 38,
   "metadata": {
    "executionInfo": {
     "elapsed": 656,
     "status": "ok",
     "timestamp": 1623912206058,
     "user": {
      "displayName": "Ashima IIITD",
      "photoUrl": "https://lh3.googleusercontent.com/a-/AOh14Gg51iTXizYDNTZkEdwmQ5GkwRQ8vp_9KTB8UVlC=s64",
      "userId": "02694856405090268186"
     },
     "user_tz": -330
    },
    "id": "EmODrJZISSNr"
   },
   "outputs": [],
   "source": [
    "## Uppercasing all alphabets in ISBN\n",
    "ratings['ISBN'] = ratings['ISBN'].str.upper()"
   ]
  },
  {
   "cell_type": "code",
   "execution_count": 39,
   "metadata": {
    "executionInfo": {
     "elapsed": 9,
     "status": "ok",
     "timestamp": 1623912206059,
     "user": {
      "displayName": "Ashima IIITD",
      "photoUrl": "https://lh3.googleusercontent.com/a-/AOh14Gg51iTXizYDNTZkEdwmQ5GkwRQ8vp_9KTB8UVlC=s64",
      "userId": "02694856405090268186"
     },
     "user_tz": -330
    },
    "id": "vv7sSuxmpTIi"
   },
   "outputs": [],
   "source": [
    "## Drop duplicate rows\n",
    "ratings.drop_duplicates(keep='last', inplace=True)\n",
    "ratings.reset_index(drop=True, inplace=True)"
   ]
  },
  {
   "cell_type": "code",
   "execution_count": 40,
   "metadata": {
    "colab": {
     "base_uri": "https://localhost:8080/"
    },
    "executionInfo": {
     "elapsed": 382,
     "status": "ok",
     "timestamp": 1623912206432,
     "user": {
      "displayName": "Ashima IIITD",
      "photoUrl": "https://lh3.googleusercontent.com/a-/AOh14Gg51iTXizYDNTZkEdwmQ5GkwRQ8vp_9KTB8UVlC=s64",
      "userId": "02694856405090268186"
     },
     "user_tz": -330
    },
    "id": "3OxDoF9iPhLA",
    "outputId": "4abf566e-4fd2-4ef0-9339-56512ec65581"
   },
   "outputs": [
    {
     "name": "stdout",
     "output_type": "stream",
     "text": [
      "<class 'pandas.core.frame.DataFrame'>\n",
      "RangeIndex: 1149776 entries, 0 to 1149775\n",
      "Data columns (total 3 columns):\n",
      " #   Column       Non-Null Count    Dtype \n",
      "---  ------       --------------    ----- \n",
      " 0   User-ID      1149776 non-null  int64 \n",
      " 1   ISBN         1149776 non-null  object\n",
      " 2   Book-Rating  1149776 non-null  int64 \n",
      "dtypes: int64(2), object(1)\n",
      "memory usage: 26.3+ MB\n"
     ]
    }
   ],
   "source": [
    "ratings.info()"
   ]
  },
  {
   "cell_type": "code",
   "execution_count": 41,
   "metadata": {
    "colab": {
     "base_uri": "https://localhost:8080/",
     "height": 204
    },
    "executionInfo": {
     "elapsed": 8,
     "status": "ok",
     "timestamp": 1623912206433,
     "user": {
      "displayName": "Ashima IIITD",
      "photoUrl": "https://lh3.googleusercontent.com/a-/AOh14Gg51iTXizYDNTZkEdwmQ5GkwRQ8vp_9KTB8UVlC=s64",
      "userId": "02694856405090268186"
     },
     "user_tz": -330
    },
    "id": "SqQR1C4KLmCn",
    "outputId": "b178e614-9a11-4dc1-f06a-6de285297008"
   },
   "outputs": [
    {
     "data": {
      "text/html": [
       "<div>\n",
       "<style scoped>\n",
       "    .dataframe tbody tr th:only-of-type {\n",
       "        vertical-align: middle;\n",
       "    }\n",
       "\n",
       "    .dataframe tbody tr th {\n",
       "        vertical-align: top;\n",
       "    }\n",
       "\n",
       "    .dataframe thead th {\n",
       "        text-align: right;\n",
       "    }\n",
       "</style>\n",
       "<table border=\"1\" class=\"dataframe\">\n",
       "  <thead>\n",
       "    <tr style=\"text-align: right;\">\n",
       "      <th></th>\n",
       "      <th>User-ID</th>\n",
       "      <th>ISBN</th>\n",
       "      <th>Book-Rating</th>\n",
       "    </tr>\n",
       "  </thead>\n",
       "  <tbody>\n",
       "    <tr>\n",
       "      <th>0</th>\n",
       "      <td>276725</td>\n",
       "      <td>034545104X</td>\n",
       "      <td>0</td>\n",
       "    </tr>\n",
       "    <tr>\n",
       "      <th>1</th>\n",
       "      <td>276726</td>\n",
       "      <td>0155061224</td>\n",
       "      <td>5</td>\n",
       "    </tr>\n",
       "    <tr>\n",
       "      <th>2</th>\n",
       "      <td>276727</td>\n",
       "      <td>0446520802</td>\n",
       "      <td>0</td>\n",
       "    </tr>\n",
       "    <tr>\n",
       "      <th>3</th>\n",
       "      <td>276729</td>\n",
       "      <td>052165615X</td>\n",
       "      <td>3</td>\n",
       "    </tr>\n",
       "    <tr>\n",
       "      <th>4</th>\n",
       "      <td>276729</td>\n",
       "      <td>0521795028</td>\n",
       "      <td>6</td>\n",
       "    </tr>\n",
       "  </tbody>\n",
       "</table>\n",
       "</div>"
      ],
      "text/plain": [
       "   User-ID        ISBN  Book-Rating\n",
       "0   276725  034545104X            0\n",
       "1   276726  0155061224            5\n",
       "2   276727  0446520802            0\n",
       "3   276729  052165615X            3\n",
       "4   276729  0521795028            6"
      ]
     },
     "execution_count": 41,
     "metadata": {},
     "output_type": "execute_result"
    }
   ],
   "source": [
    "ratings.head()"
   ]
  },
  {
   "cell_type": "markdown",
   "metadata": {
    "id": "H08g63ssPM8P"
   },
   "source": [
    "<h3><b>Merging of all three Tables"
   ]
  },
  {
   "cell_type": "markdown",
   "metadata": {
    "id": "OsBYOC9WWfkh"
   },
   "source": [
    "<b>Merging Books, Users and Rating Tables in One"
   ]
  },
  {
   "cell_type": "code",
   "execution_count": 42,
   "metadata": {
    "colab": {
     "base_uri": "https://localhost:8080/"
    },
    "executionInfo": {
     "elapsed": 2308,
     "status": "ok",
     "timestamp": 1623912208737,
     "user": {
      "displayName": "Ashima IIITD",
      "photoUrl": "https://lh3.googleusercontent.com/a-/AOh14Gg51iTXizYDNTZkEdwmQ5GkwRQ8vp_9KTB8UVlC=s64",
      "userId": "02694856405090268186"
     },
     "user_tz": -330
    },
    "id": "Qe35QgDxWetG",
    "outputId": "ee8ff3e9-1401-43bc-d56f-1068762b2e2e"
   },
   "outputs": [
    {
     "name": "stdout",
     "output_type": "stream",
     "text": [
      "<class 'pandas.core.frame.DataFrame'>\n",
      "RangeIndex: 1031609 entries, 0 to 1031608\n",
      "Data columns (total 11 columns):\n",
      " #   Column               Non-Null Count    Dtype \n",
      "---  ------               --------------    ----- \n",
      " 0   ISBN                 1031609 non-null  object\n",
      " 1   Book-Title           1031609 non-null  object\n",
      " 2   Book-Author          1031608 non-null  object\n",
      " 3   Year-Of-Publication  1031609 non-null  int64 \n",
      " 4   Publisher            1031609 non-null  object\n",
      " 5   User-ID              1031609 non-null  int64 \n",
      " 6   Book-Rating          1031609 non-null  int64 \n",
      " 7   Age                  1031609 non-null  int64 \n",
      " 8   City                 1031609 non-null  object\n",
      " 9   State                1031609 non-null  object\n",
      " 10  Country              1031609 non-null  object\n",
      "dtypes: int64(4), object(7)\n",
      "memory usage: 86.6+ MB\n"
     ]
    }
   ],
   "source": [
    "dataset = pd.merge(books, ratings, on='ISBN', how='inner')\n",
    "dataset = pd.merge(dataset, users, on='User-ID', how='inner')\n",
    "dataset.info()"
   ]
  },
  {
   "cell_type": "markdown",
   "metadata": {
    "id": "Om4IG8UDc02E"
   },
   "source": [
    "<b>Divide complete data on the basis of Implicit and Explicit ratings datasets"
   ]
  },
  {
   "cell_type": "code",
   "execution_count": 43,
   "metadata": {
    "colab": {
     "base_uri": "https://localhost:8080/"
    },
    "executionInfo": {
     "elapsed": 6,
     "status": "ok",
     "timestamp": 1623912208737,
     "user": {
      "displayName": "Ashima IIITD",
      "photoUrl": "https://lh3.googleusercontent.com/a-/AOh14Gg51iTXizYDNTZkEdwmQ5GkwRQ8vp_9KTB8UVlC=s64",
      "userId": "02694856405090268186"
     },
     "user_tz": -330
    },
    "id": "s8nZ7OutWT3Z",
    "outputId": "7a3591fa-8363-4273-ec0b-36193dbbd5b9"
   },
   "outputs": [
    {
     "data": {
      "text/plain": [
       "(384074, 11)"
      ]
     },
     "execution_count": 43,
     "metadata": {},
     "output_type": "execute_result"
    }
   ],
   "source": [
    "## Explicit Ratings Dataset\n",
    "dataset1 = dataset[dataset['Book-Rating'] != 0]\n",
    "dataset1 = dataset1.reset_index(drop = True)\n",
    "dataset1.shape"
   ]
  },
  {
   "cell_type": "code",
   "execution_count": 44,
   "metadata": {
    "colab": {
     "base_uri": "https://localhost:8080/"
    },
    "executionInfo": {
     "elapsed": 395,
     "status": "ok",
     "timestamp": 1623912209129,
     "user": {
      "displayName": "Ashima IIITD",
      "photoUrl": "https://lh3.googleusercontent.com/a-/AOh14Gg51iTXizYDNTZkEdwmQ5GkwRQ8vp_9KTB8UVlC=s64",
      "userId": "02694856405090268186"
     },
     "user_tz": -330
    },
    "id": "glsWrmCxWUAi",
    "outputId": "61a3c941-2528-4e12-a502-53948280ce7b"
   },
   "outputs": [
    {
     "data": {
      "text/plain": [
       "(647535, 11)"
      ]
     },
     "execution_count": 44,
     "metadata": {},
     "output_type": "execute_result"
    }
   ],
   "source": [
    "## Implicit Ratings Dataset\n",
    "dataset2 = dataset[dataset['Book-Rating'] == 0]\n",
    "dataset2 = dataset2.reset_index(drop = True)\n",
    "dataset2.shape"
   ]
  },
  {
   "cell_type": "code",
   "execution_count": 45,
   "metadata": {
    "colab": {
     "base_uri": "https://localhost:8080/",
     "height": 204
    },
    "executionInfo": {
     "elapsed": 7,
     "status": "ok",
     "timestamp": 1623912209130,
     "user": {
      "displayName": "Ashima IIITD",
      "photoUrl": "https://lh3.googleusercontent.com/a-/AOh14Gg51iTXizYDNTZkEdwmQ5GkwRQ8vp_9KTB8UVlC=s64",
      "userId": "02694856405090268186"
     },
     "user_tz": -330
    },
    "id": "youYQL9HMl7g",
    "outputId": "0998d608-49e7-4b22-c20d-a65b73ebf5cb"
   },
   "outputs": [
    {
     "data": {
      "text/plain": [
       "384074"
      ]
     },
     "execution_count": 45,
     "metadata": {},
     "output_type": "execute_result"
    }
   ],
   "source": [
    "dataset1.head()\n",
    "len(dataset1)"
   ]
  },
  {
   "cell_type": "markdown",
   "metadata": {
    "id": "aK8_JanrPRDP"
   },
   "source": [
    "<h3><b>Data Visualization"
   ]
  },
  {
   "cell_type": "code",
   "execution_count": 46,
   "metadata": {
    "colab": {
     "base_uri": "https://localhost:8080/",
     "height": 483
    },
    "executionInfo": {
     "elapsed": 1962,
     "status": "ok",
     "timestamp": 1623912211086,
     "user": {
      "displayName": "Ashima IIITD",
      "photoUrl": "https://lh3.googleusercontent.com/a-/AOh14Gg51iTXizYDNTZkEdwmQ5GkwRQ8vp_9KTB8UVlC=s64",
      "userId": "02694856405090268186"
     },
     "user_tz": -330
    },
    "id": "zk0F49gC3Abg",
    "outputId": "79ae424c-4a7b-4588-a4e0-bc701b98ea6b"
   },
   "outputs": [
    {
     "data": {
      "image/png": "[encoded data removed]",
      "text/plain": [
       "<Figure size 5500x1500 with 1 Axes>"
      ]
     },
     "metadata": {},
     "output_type": "display_data"
    }
   ],
   "source": [
    "publications = {}\n",
    "for year in books['Year-Of-Publication']:\n",
    "    if str(year) not in publications:\n",
    "        publications[str(year)] = 0\n",
    "    publications[str(year)] +=1\n",
    "\n",
    "publications = {k:v for k, v in sorted(publications.items())}\n",
    "\n",
    "fig = plt.figure(figsize =(55, 15))\n",
    "plt.bar(list(publications.keys()),list(publications.values()), color = 'blue')\n",
    "plt.ylabel(\"Number of books published\")\n",
    "plt.xlabel(\"Year of Publication\")\n",
    "plt.title(\"Number of books published yearly\")\n",
    "plt.margins(x = 0)\n",
    "plt.show()"
   ]
  },
  {
   "cell_type": "code",
   "execution_count": 47,
   "metadata": {
    "colab": {
     "base_uri": "https://localhost:8080/",
     "height": 421
    },
    "executionInfo": {
     "elapsed": 23698,
     "status": "ok",
     "timestamp": 1623912234782,
     "user": {
      "displayName": "Ashima IIITD",
      "photoUrl": "https://lh3.googleusercontent.com/a-/AOh14Gg51iTXizYDNTZkEdwmQ5GkwRQ8vp_9KTB8UVlC=s64",
      "userId": "02694856405090268186"
     },
     "user_tz": -330
    },
    "id": "DSug3Bcqk4dE",
    "outputId": "d1f6db5c-e041-4aeb-fa2a-efb9671a79b3"
   },
   "outputs": [
    {
     "data": {
      "text/plain": [
       "Text(0.5, 1.0, 'No of books by an author (Top 15)')"
      ]
     },
     "execution_count": 47,
     "metadata": {},
     "output_type": "execute_result"
    },
    {
     "data": {
      "image/png": "[encoded data removed]",
      "text/plain": [
       "<Figure size 1500x600 with 1 Axes>"
      ]
     },
     "metadata": {},
     "output_type": "display_data"
    }
   ],
   "source": [
    "plt.figure(figsize=(15,6))\n",
    "sns.countplot(y=\"Book-Author\", data=books,order=books['Book-Author'].value_counts().index[0:15])\n",
    "plt.title(\"No of books by an author (Top 15)\")"
   ]
  },
  {
   "cell_type": "code",
   "execution_count": 48,
   "metadata": {
    "colab": {
     "base_uri": "https://localhost:8080/",
     "height": 421
    },
    "executionInfo": {
     "elapsed": 4057,
     "status": "ok",
     "timestamp": 1623912238826,
     "user": {
      "displayName": "Ashima IIITD",
      "photoUrl": "https://lh3.googleusercontent.com/a-/AOh14Gg51iTXizYDNTZkEdwmQ5GkwRQ8vp_9KTB8UVlC=s64",
      "userId": "02694856405090268186"
     },
     "user_tz": -330
    },
    "id": "DbWoYudmk4aQ",
    "outputId": "bfd37b82-72b2-4179-b273-1e8ad6420634"
   },
   "outputs": [
    {
     "data": {
      "text/plain": [
       "Text(0.5, 1.0, 'No of books published by a publisher (Top 15)')"
      ]
     },
     "execution_count": 48,
     "metadata": {},
     "output_type": "execute_result"
    },
    {
     "data": {
      "image/png": "[encoded data removed]",
      "text/plain": [
       "<Figure size 1500x600 with 1 Axes>"
      ]
     },
     "metadata": {},
     "output_type": "display_data"
    }
   ],
   "source": [
    "plt.figure(figsize=(15,6))\n",
    "sns.countplot(y=\"Publisher\", data=books,order=books['Publisher'].value_counts().index[0:15])\n",
    "plt.title(\"No of books published by a publisher (Top 15)\")"
   ]
  },
  {
   "cell_type": "code",
   "execution_count": 49,
   "metadata": {
    "colab": {
     "base_uri": "https://localhost:8080/",
     "height": 405
    },
    "executionInfo": {
     "elapsed": 813,
     "status": "ok",
     "timestamp": 1623912239635,
     "user": {
      "displayName": "Ashima IIITD",
      "photoUrl": "https://lh3.googleusercontent.com/a-/AOh14Gg51iTXizYDNTZkEdwmQ5GkwRQ8vp_9KTB8UVlC=s64",
      "userId": "02694856405090268186"
     },
     "user_tz": -330
    },
    "id": "S_3811rdVmdC",
    "outputId": "51c1d1c8-345c-4210-bf52-841061f93379"
   },
   "outputs": [
    {
     "data": {
      "text/plain": [
       "<Axes: xlabel='Book-Rating', ylabel='count'>"
      ]
     },
     "execution_count": 49,
     "metadata": {},
     "output_type": "execute_result"
    },
    {
     "data": {
      "image/png": "[encoded data removed]",
      "text/plain": [
       "<Figure size 800x600 with 1 Axes>"
      ]
     },
     "metadata": {},
     "output_type": "display_data"
    }
   ],
   "source": [
    "plt.figure(figsize=(8,6))\n",
    "sns.countplot(x=\"Book-Rating\", data=ratings)"
   ]
  },
  {
   "cell_type": "code",
   "execution_count": 50,
   "metadata": {
    "colab": {
     "base_uri": "https://localhost:8080/",
     "height": 421
    },
    "executionInfo": {
     "elapsed": 13,
     "status": "ok",
     "timestamp": 1623912239635,
     "user": {
      "displayName": "Ashima IIITD",
      "photoUrl": "https://lh3.googleusercontent.com/a-/AOh14Gg51iTXizYDNTZkEdwmQ5GkwRQ8vp_9KTB8UVlC=s64",
      "userId": "02694856405090268186"
     },
     "user_tz": -330
    },
    "id": "fS1k4WawgmQp",
    "outputId": "b203d776-5ad7-4914-8db3-6515fd35c23e"
   },
   "outputs": [
    {
     "data": {
      "text/plain": [
       "Text(0.5, 1.0, 'Explicit Ratings')"
      ]
     },
     "execution_count": 50,
     "metadata": {},
     "output_type": "execute_result"
    },
    {
     "data": {
      "image/png": "[encoded data removed]",
      "text/plain": [
       "<Figure size 800x600 with 1 Axes>"
      ]
     },
     "metadata": {},
     "output_type": "display_data"
    }
   ],
   "source": [
    "## Explicit Ratings\n",
    "plt.figure(figsize=(8,6))\n",
    "data = ratings[ratings['Book-Rating'] != 0]\n",
    "sns.countplot(x=\"Book-Rating\", data=data)\n",
    "plt.title(\"Explicit Ratings\")"
   ]
  },
  {
   "cell_type": "code",
   "execution_count": 51,
   "metadata": {
    "colab": {
     "base_uri": "https://localhost:8080/",
     "height": 404
    },
    "executionInfo": {
     "elapsed": 9,
     "status": "ok",
     "timestamp": 1623912239636,
     "user": {
      "displayName": "Ashima IIITD",
      "photoUrl": "https://lh3.googleusercontent.com/a-/AOh14Gg51iTXizYDNTZkEdwmQ5GkwRQ8vp_9KTB8UVlC=s64",
      "userId": "02694856405090268186"
     },
     "user_tz": -330
    },
    "id": "VIhugq8mU9ti",
    "outputId": "6de3b3e7-fbb8-4e8f-bcc4-32283da73381"
   },
   "outputs": [
    {
     "data": {
      "image/png": "[encoded data removed]",
      "text/plain": [
       "<Figure size 800x600 with 1 Axes>"
      ]
     },
     "metadata": {},
     "output_type": "display_data"
    }
   ],
   "source": [
    "plt.figure(figsize=(8,6))\n",
    "users.Age.hist(bins=[10*i for i in range(1, 10)])     \n",
    "plt.title('Age Distribution')\n",
    "plt.xlabel('Age')\n",
    "plt.ylabel('Count')\n",
    "plt.show()"
   ]
  },
  {
   "cell_type": "code",
   "execution_count": 52,
   "metadata": {
    "colab": {
     "base_uri": "https://localhost:8080/",
     "height": 421
    },
    "executionInfo": {
     "elapsed": 7575,
     "status": "ok",
     "timestamp": 1623912247848,
     "user": {
      "displayName": "Ashima IIITD",
      "photoUrl": "https://lh3.googleusercontent.com/a-/AOh14Gg51iTXizYDNTZkEdwmQ5GkwRQ8vp_9KTB8UVlC=s64",
      "userId": "02694856405090268186"
     },
     "user_tz": -330
    },
    "id": "cZJkUWAEiIYy",
    "outputId": "a93b00ef-8bf6-4635-c291-2ddda92020ff"
   },
   "outputs": [
    {
     "data": {
      "text/plain": [
       "Text(0.5, 1.0, 'No of readers from each city (Top 15)')"
      ]
     },
     "execution_count": 52,
     "metadata": {},
     "output_type": "execute_result"
    },
    {
     "data": {
      "image/png": "[encoded data removed]",
      "text/plain": [
       "<Figure size 2000x600 with 1 Axes>"
      ]
     },
     "metadata": {},
     "output_type": "display_data"
    }
   ],
   "source": [
    "plt.figure(figsize=(20,6))\n",
    "sns.countplot(x=\"City\", data=users,order=users['City'].value_counts().index[0:15])\n",
    "plt.title(\"No of readers from each city (Top 15)\")"
   ]
  },
  {
   "cell_type": "code",
   "execution_count": 53,
   "metadata": {
    "colab": {
     "base_uri": "https://localhost:8080/",
     "height": 421
    },
    "executionInfo": {
     "elapsed": 2183,
     "status": "ok",
     "timestamp": 1623912250019,
     "user": {
      "displayName": "Ashima IIITD",
      "photoUrl": "https://lh3.googleusercontent.com/a-/AOh14Gg51iTXizYDNTZkEdwmQ5GkwRQ8vp_9KTB8UVlC=s64",
      "userId": "02694856405090268186"
     },
     "user_tz": -330
    },
    "id": "PZWkwtTgiIc7",
    "outputId": "d3604016-7585-4423-d382-c2121e059d04"
   },
   "outputs": [
    {
     "data": {
      "text/plain": [
       "Text(0.5, 1.0, 'No of readers from each state (Top 15)')"
      ]
     },
     "execution_count": 53,
     "metadata": {},
     "output_type": "execute_result"
    },
    {
     "data": {
      "image/png": "[encoded data removed]",
      "text/plain": [
       "<Figure size 2000x600 with 1 Axes>"
      ]
     },
     "metadata": {},
     "output_type": "display_data"
    }
   ],
   "source": [
    "plt.figure(figsize=(20,6))\n",
    "sns.countplot(x=\"State\", data=users,order=users['State'].value_counts().index[0:15])\n",
    "plt.title(\"No of readers from each state (Top 15)\")"
   ]
  },
  {
   "cell_type": "code",
   "execution_count": 54,
   "metadata": {
    "colab": {
     "base_uri": "https://localhost:8080/",
     "height": 530
    },
    "executionInfo": {
     "elapsed": 946,
     "status": "ok",
     "timestamp": 1623912250962,
     "user": {
      "displayName": "Ashima IIITD",
      "photoUrl": "https://lh3.googleusercontent.com/a-/AOh14Gg51iTXizYDNTZkEdwmQ5GkwRQ8vp_9KTB8UVlC=s64",
      "userId": "02694856405090268186"
     },
     "user_tz": -330
    },
    "id": "IwumrrqziIWw",
    "outputId": "e19fe099-2dc7-46db-a8aa-e08408c7ead1"
   },
   "outputs": [
    {
     "data": {
      "text/plain": [
       "Text(0.5, 1.0, 'No of readers from each country (Top 10)')"
      ]
     },
     "execution_count": 54,
     "metadata": {},
     "output_type": "execute_result"
    },
    {
     "data": {
      "image/png": "[encoded data removed]",
      "text/plain": [
       "<Figure size 1500x800 with 1 Axes>"
      ]
     },
     "metadata": {},
     "output_type": "display_data"
    }
   ],
   "source": [
    "plt.figure(figsize=(15,8))\n",
    "sns.countplot(y=\"Country\", data=users, order=users['Country'].value_counts().index[0:10])\n",
    "plt.title(\"No of readers from each country (Top 10)\")"
   ]
  },
  {
   "cell_type": "code",
   "execution_count": 55,
   "metadata": {
    "colab": {
     "base_uri": "https://localhost:8080/",
     "height": 421
    },
    "executionInfo": {
     "elapsed": 737,
     "status": "ok",
     "timestamp": 1623912251690,
     "user": {
      "displayName": "Ashima IIITD",
      "photoUrl": "https://lh3.googleusercontent.com/a-/AOh14Gg51iTXizYDNTZkEdwmQ5GkwRQ8vp_9KTB8UVlC=s64",
      "userId": "02694856405090268186"
     },
     "user_tz": -330
    },
    "id": "T_tbVE0XqS_e",
    "outputId": "48efb6e9-91ee-4bdc-8272-81096bbce0b5"
   },
   "outputs": [
    {
     "data": {
      "text/plain": [
       "Text(0.5, 1.0, 'No of readers from states of USA (Top 15)')"
      ]
     },
     "execution_count": 55,
     "metadata": {},
     "output_type": "execute_result"
    },
    {
     "data": {
      "image/png": "[encoded data removed]",
      "text/plain": [
       "<Figure size 2000x600 with 1 Axes>"
      ]
     },
     "metadata": {},
     "output_type": "display_data"
    }
   ],
   "source": [
    "data=users[users['Country']=='usa']\n",
    "plt.figure(figsize=(20,6))\n",
    "sns.countplot(x=\"State\", data=data,order=data['State'].value_counts().index[0:15])\n",
    "plt.title(\"No of readers from states of USA (Top 15)\")"
   ]
  },
  {
   "cell_type": "code",
   "execution_count": 56,
   "metadata": {
    "colab": {
     "base_uri": "https://localhost:8080/",
     "height": 530
    },
    "executionInfo": {
     "elapsed": 205690,
     "status": "ok",
     "timestamp": 1623912457376,
     "user": {
      "displayName": "Ashima IIITD",
      "photoUrl": "https://lh3.googleusercontent.com/a-/AOh14Gg51iTXizYDNTZkEdwmQ5GkwRQ8vp_9KTB8UVlC=s64",
      "userId": "02694856405090268186"
     },
     "user_tz": -330
    },
    "id": "zsktJpPyfWZs",
    "outputId": "c0eb745f-2621-4480-9454-85ee4845b230"
   },
   "outputs": [
    {
     "data": {
      "text/plain": [
       "Text(0.5, 1.0, 'Number of Ratings for a book (Top 15)')"
      ]
     },
     "execution_count": 56,
     "metadata": {},
     "output_type": "execute_result"
    },
    {
     "data": {
      "image/png": "[encoded data removed]",
      "text/plain": [
       "<Figure size 1500x800 with 1 Axes>"
      ]
     },
     "metadata": {},
     "output_type": "display_data"
    }
   ],
   "source": [
    "plt.figure(figsize=(15,8))\n",
    "sns.countplot(y=\"Book-Title\", data=dataset, order=dataset['Book-Title'].value_counts().index[0:15])\n",
    "plt.title(\"Number of Ratings for a book (Top 15)\")"
   ]
  },
  {
   "cell_type": "markdown",
   "metadata": {
    "id": "TKoVFMC2Ts8B"
   },
   "source": [
    "<h2><b>Recommendation Systems"
   ]
  },
  {
   "cell_type": "code",
   "execution_count": 57,
   "metadata": {
    "colab": {
     "base_uri": "https://localhost:8080/"
    },
    "executionInfo": {
     "elapsed": 31614,
     "status": "ok",
     "timestamp": 1623912488976,
     "user": {
      "displayName": "Ashima IIITD",
      "photoUrl": "https://lh3.googleusercontent.com/a-/AOh14Gg51iTXizYDNTZkEdwmQ5GkwRQ8vp_9KTB8UVlC=s64",
      "userId": "02694856405090268186"
     },
     "user_tz": -330
    },
    "id": "XYOgNMcXxVWM",
    "outputId": "e061a0e6-4466-4668-f28a-7c2cc53dd77b"
   },
   "outputs": [
    {
     "ename": "KeyboardInterrupt",
     "evalue": "Interrupted by user",
     "output_type": "error",
     "traceback": [
      "\u001b[1;31m---------------------------------------------------------------------------\u001b[0m",
      "\u001b[1;31mKeyboardInterrupt\u001b[0m                         Traceback (most recent call last)",
      "Cell \u001b[1;32mIn[57], line 1\u001b[0m\n\u001b[1;32m----> 1\u001b[0m bookName \u001b[38;5;241m=\u001b[39m \u001b[38;5;28;43minput\u001b[39;49m\u001b[43m(\u001b[49m\u001b[38;5;124;43m\"\u001b[39;49m\u001b[38;5;124;43mEnter a book name: \u001b[39;49m\u001b[38;5;124;43m\"\u001b[39;49m\u001b[43m)\u001b[49m\n\u001b[0;32m      2\u001b[0m number \u001b[38;5;241m=\u001b[39m \u001b[38;5;28mint\u001b[39m(\u001b[38;5;28minput\u001b[39m(\u001b[38;5;124m\"\u001b[39m\u001b[38;5;124mEnter number of books to recommend: \u001b[39m\u001b[38;5;124m\"\u001b[39m))\n\u001b[0;32m      4\u001b[0m \u001b[38;5;66;03m# Harry Potter and the Sorcerer's Stone (Harry Potter (Paperback))\u001b[39;00m\n",
      "File \u001b[1;32m~\\AppData\\Roaming\\Python\\Python312\\site-packages\\ipykernel\\kernelbase.py:1282\u001b[0m, in \u001b[0;36mKernel.raw_input\u001b[1;34m(self, prompt)\u001b[0m\n\u001b[0;32m   1280\u001b[0m     msg \u001b[38;5;241m=\u001b[39m \u001b[38;5;124m\"\u001b[39m\u001b[38;5;124mraw_input was called, but this frontend does not support input requests.\u001b[39m\u001b[38;5;124m\"\u001b[39m\n\u001b[0;32m   1281\u001b[0m     \u001b[38;5;28;01mraise\u001b[39;00m StdinNotImplementedError(msg)\n\u001b[1;32m-> 1282\u001b[0m \u001b[38;5;28;01mreturn\u001b[39;00m \u001b[38;5;28;43mself\u001b[39;49m\u001b[38;5;241;43m.\u001b[39;49m\u001b[43m_input_request\u001b[49m\u001b[43m(\u001b[49m\n\u001b[0;32m   1283\u001b[0m \u001b[43m    \u001b[49m\u001b[38;5;28;43mstr\u001b[39;49m\u001b[43m(\u001b[49m\u001b[43mprompt\u001b[49m\u001b[43m)\u001b[49m\u001b[43m,\u001b[49m\n\u001b[0;32m   1284\u001b[0m \u001b[43m    \u001b[49m\u001b[38;5;28;43mself\u001b[39;49m\u001b[38;5;241;43m.\u001b[39;49m\u001b[43m_parent_ident\u001b[49m\u001b[43m[\u001b[49m\u001b[38;5;124;43m\"\u001b[39;49m\u001b[38;5;124;43mshell\u001b[39;49m\u001b[38;5;124;43m\"\u001b[39;49m\u001b[43m]\u001b[49m\u001b[43m,\u001b[49m\n\u001b[0;32m   1285\u001b[0m \u001b[43m    \u001b[49m\u001b[38;5;28;43mself\u001b[39;49m\u001b[38;5;241;43m.\u001b[39;49m\u001b[43mget_parent\u001b[49m\u001b[43m(\u001b[49m\u001b[38;5;124;43m\"\u001b[39;49m\u001b[38;5;124;43mshell\u001b[39;49m\u001b[38;5;124;43m\"\u001b[39;49m\u001b[43m)\u001b[49m\u001b[43m,\u001b[49m\n\u001b[0;32m   1286\u001b[0m \u001b[43m    \u001b[49m\u001b[43mpassword\u001b[49m\u001b[38;5;241;43m=\u001b[39;49m\u001b[38;5;28;43;01mFalse\u001b[39;49;00m\u001b[43m,\u001b[49m\n\u001b[0;32m   1287\u001b[0m \u001b[43m\u001b[49m\u001b[43m)\u001b[49m\n",
      "File \u001b[1;32m~\\AppData\\Roaming\\Python\\Python312\\site-packages\\ipykernel\\kernelbase.py:1325\u001b[0m, in \u001b[0;36mKernel._input_request\u001b[1;34m(self, prompt, ident, parent, password)\u001b[0m\n\u001b[0;32m   1322\u001b[0m \u001b[38;5;28;01mexcept\u001b[39;00m \u001b[38;5;167;01mKeyboardInterrupt\u001b[39;00m:\n\u001b[0;32m   1323\u001b[0m     \u001b[38;5;66;03m# re-raise KeyboardInterrupt, to truncate traceback\u001b[39;00m\n\u001b[0;32m   1324\u001b[0m     msg \u001b[38;5;241m=\u001b[39m \u001b[38;5;124m\"\u001b[39m\u001b[38;5;124mInterrupted by user\u001b[39m\u001b[38;5;124m\"\u001b[39m\n\u001b[1;32m-> 1325\u001b[0m     \u001b[38;5;28;01mraise\u001b[39;00m \u001b[38;5;167;01mKeyboardInterrupt\u001b[39;00m(msg) \u001b[38;5;28;01mfrom\u001b[39;00m \u001b[38;5;28;01mNone\u001b[39;00m\n\u001b[0;32m   1326\u001b[0m \u001b[38;5;28;01mexcept\u001b[39;00m \u001b[38;5;167;01mException\u001b[39;00m:\n\u001b[0;32m   1327\u001b[0m     \u001b[38;5;28mself\u001b[39m\u001b[38;5;241m.\u001b[39mlog\u001b[38;5;241m.\u001b[39mwarning(\u001b[38;5;124m\"\u001b[39m\u001b[38;5;124mInvalid Message:\u001b[39m\u001b[38;5;124m\"\u001b[39m, exc_info\u001b[38;5;241m=\u001b[39m\u001b[38;5;28;01mTrue\u001b[39;00m)\n",
      "\u001b[1;31mKeyboardInterrupt\u001b[0m: Interrupted by user"
     ]
    }
   ],
   "source": [
    "bookName = input(\"Enter a book name: \")\n",
    "number = int(input(\"Enter number of books to recommend: \"))\n",
    "\n",
    "# Harry Potter and the Sorcerer's Stone (Harry Potter (Paperback))"
   ]
  },
  {
   "cell_type": "markdown",
   "metadata": {
    "id": "4re4K27hZO1R"
   },
   "source": [
    "<h5><b> 1. Popularity Based (Top In whole collection)"
   ]
  },
  {
   "cell_type": "code",
   "execution_count": null,
   "metadata": {
    "executionInfo": {
     "elapsed": 12,
     "status": "ok",
     "timestamp": 1623912488976,
     "user": {
      "displayName": "Ashima IIITD",
      "photoUrl": "https://lh3.googleusercontent.com/a-/AOh14Gg51iTXizYDNTZkEdwmQ5GkwRQ8vp_9KTB8UVlC=s64",
      "userId": "02694856405090268186"
     },
     "user_tz": -330
    },
    "id": "xxEj1Y-AQf-r"
   },
   "outputs": [],
   "source": [
    "def popularity_based(dataframe, n):\n",
    "    if n >= 1 and n <= len(dataframe):\n",
    "        data = pd.DataFrame(dataframe.groupby('ISBN')['Book-Rating'].count()).sort_values('Book-Rating', ascending=False).head(n)\n",
    "        result = pd.merge(data, books, on='ISBN')\n",
    "        return result\n",
    "    return \"Invalid number of books entered!!\""
   ]
  },
  {
   "cell_type": "code",
   "execution_count": null,
   "metadata": {},
   "outputs": [],
   "source": [
    "bookName\n",
    "print(len(dataset1))"
   ]
  },
  {
   "cell_type": "code",
   "execution_count": null,
   "metadata": {
    "colab": {
     "base_uri": "https://localhost:8080/",
     "height": 221
    },
    "executionInfo": {
     "elapsed": 681,
     "status": "ok",
     "timestamp": 1623912489646,
     "user": {
      "displayName": "Ashima IIITD",
      "photoUrl": "https://lh3.googleusercontent.com/a-/AOh14Gg51iTXizYDNTZkEdwmQ5GkwRQ8vp_9KTB8UVlC=s64",
      "userId": "02694856405090268186"
     },
     "user_tz": -330
    },
    "id": "eAqbJVdPQgIy",
    "outputId": "2b57c885-9256-4800-d152-cc7bfb2e731d"
   },
   "outputs": [],
   "source": [
    "print(\"Top\", number, \"Popular books are: \")\n",
    "popularity_based(dataset1, number)"
   ]
  },
  {
   "cell_type": "markdown",
   "metadata": {
    "id": "JTgBu6nRZmTQ"
   },
   "source": [
    "<h5><b>2. Popularity Based (Top In a given place)"
   ]
  },
  {
   "cell_type": "code",
   "execution_count": null,
   "metadata": {
    "executionInfo": {
     "elapsed": 17,
     "status": "ok",
     "timestamp": 1623912489646,
     "user": {
      "displayName": "Ashima IIITD",
      "photoUrl": "https://lh3.googleusercontent.com/a-/AOh14Gg51iTXizYDNTZkEdwmQ5GkwRQ8vp_9KTB8UVlC=s64",
      "userId": "02694856405090268186"
     },
     "user_tz": -330
    },
    "id": "xsnuHjyAb1mk"
   },
   "outputs": [],
   "source": [
    "def search_unique_places(dataframe, place):\n",
    "    place = place.lower()\n",
    "\n",
    "    if place in list(dataframe['City'].unique()):\n",
    "        return dataframe[dataframe['City'] == place]\n",
    "    elif place in list(dataframe['State'].unique()):\n",
    "        return dataframe[dataframe['State'] == place]\n",
    "    elif place in list(dataframe['Country'].unique()):\n",
    "        return dataframe[dataframe['Country'] == place]\n",
    "    else:\n",
    "        return \"Invalid Entry\""
   ]
  },
  {
   "cell_type": "code",
   "execution_count": null,
   "metadata": {
    "colab": {
     "base_uri": "https://localhost:8080/",
     "height": 221
    },
    "executionInfo": {
     "elapsed": 3986,
     "status": "ok",
     "timestamp": 1623912493626,
     "user": {
      "displayName": "Ashima IIITD",
      "photoUrl": "https://lh3.googleusercontent.com/a-/AOh14Gg51iTXizYDNTZkEdwmQ5GkwRQ8vp_9KTB8UVlC=s64",
      "userId": "02694856405090268186"
     },
     "user_tz": -330
    },
    "id": "6BE_bSaSddwP",
    "outputId": "0eda99e3-c774-42fb-9a98-3dca8b6336d9"
   },
   "outputs": [],
   "source": [
    "place = input(\"Enter the name of place: \")\n",
    "data = search_unique_places(dataset1, place)\n",
    "\n",
    "if isinstance(data, pd.DataFrame):\n",
    "    data = popularity_based(data, number)\n",
    "\n",
    "data"
   ]
  },
  {
   "cell_type": "markdown",
   "metadata": {
    "id": "tXrOOhLs_YAC"
   },
   "source": [
    "<b><h5>3. Books by same author, publisher of given book name"
   ]
  },
  {
   "cell_type": "code",
   "execution_count": null,
   "metadata": {
    "executionInfo": {
     "elapsed": 15,
     "status": "ok",
     "timestamp": 1623912493626,
     "user": {
      "displayName": "Ashima IIITD",
      "photoUrl": "https://lh3.googleusercontent.com/a-/AOh14Gg51iTXizYDNTZkEdwmQ5GkwRQ8vp_9KTB8UVlC=s64",
      "userId": "02694856405090268186"
     },
     "user_tz": -330
    },
    "id": "vhKTvXM2BNzN"
   },
   "outputs": [],
   "source": [
    "def printBook(k, n):\n",
    "    z = k['Book-Title'].unique()\n",
    "    for x in range(len(z)):\n",
    "        print(z[x])\n",
    "        if x >= n-1:\n",
    "            break"
   ]
  },
  {
   "cell_type": "code",
   "execution_count": null,
   "metadata": {
    "executionInfo": {
     "elapsed": 15,
     "status": "ok",
     "timestamp": 1623912493627,
     "user": {
      "displayName": "Ashima IIITD",
      "photoUrl": "https://lh3.googleusercontent.com/a-/AOh14Gg51iTXizYDNTZkEdwmQ5GkwRQ8vp_9KTB8UVlC=s64",
      "userId": "02694856405090268186"
     },
     "user_tz": -330
    },
    "id": "NvbjfVJYAGIO"
   },
   "outputs": [],
   "source": [
    "# def get_books(dataframe, name, n):\n",
    "#     print(\"\\nBooks by same Author:\\n\")\n",
    "#     au = dataframe['Book-Author'].unique()\n",
    "\n",
    "#     data = dataset1[dataset1['Book-Title'] != name]\n",
    "\n",
    "#     if au[0] in list(data['Book-Author'].unique()):\n",
    "#         k2 = data[data['Book-Author'] == au[0]]\n",
    "#     k2 = k2.sort_values(by=['Book-Rating'])\n",
    "#     printBook(k2, n)\n",
    "\n",
    "#     print(\"\\n\\nBooks by same Publisher:\\n\")\n",
    "#     au = dataframe['Publisher'].unique()\n",
    "\n",
    "#     if au[0] in list(data['Publisher'].unique()):\n",
    "#         k2 = pd.DataFrame(data[data['Publisher'] == au[0]])\n",
    "#     k2=k2.sort_values(by=['Book-Rating']) \n",
    "#     printBook(k2, n)"
   ]
  },
  {
   "cell_type": "code",
   "execution_count": null,
   "metadata": {},
   "outputs": [],
   "source": [
    "def get_books(dataframe, name, n):\n",
    "    print(\"\\nBooks by same Author:\\n\")\n",
    "    au = dataframe['Book-Author'].unique()\n",
    "    data = dataset1[dataset1['Book-Title'] != name]\n",
    "    k2 = None  # Initialize k2\n",
    "\n",
    "    if au[0] in list(data['Book-Author'].unique()):\n",
    "        k2 = data[data['Book-Author'] == au[0]]\n",
    "        k2 = k2.sort_values(by=['Book-Rating'])\n",
    "        printBook(k2, n)\n",
    "    else:\n",
    "        print(\"Author not found in the dataset.\")\n",
    "\n",
    "    print(\"\\n\\nBooks by same Publisher:\\n\")\n",
    "    pu = dataframe['Publisher'].unique()  # Changed variable name to pu for clarity\n",
    "\n",
    "    if pu[0] in list(data['Publisher'].unique()):\n",
    "        k2 = pd.DataFrame(data[data['Publisher'] == pu[0]])\n",
    "        k2 = k2.sort_values(by=['Book-Rating'])\n",
    "        printBook(k2, n)\n",
    "    else:\n",
    "        print(\"Publisher not found in the dataset.\")\n"
   ]
  },
  {
   "cell_type": "code",
   "execution_count": null,
   "metadata": {
    "colab": {
     "base_uri": "https://localhost:8080/"
    },
    "executionInfo": {
     "elapsed": 884,
     "status": "ok",
     "timestamp": 1623912494496,
     "user": {
      "displayName": "Ashima IIITD",
      "photoUrl": "https://lh3.googleusercontent.com/a-/AOh14Gg51iTXizYDNTZkEdwmQ5GkwRQ8vp_9KTB8UVlC=s64",
      "userId": "02694856405090268186"
     },
     "user_tz": -330
    },
    "id": "iF_ufzzTdeAr",
    "outputId": "c7ea0bc8-3f6c-4962-b70c-1cec5c806a80"
   },
   "outputs": [],
   "source": [
    "if bookName in list(dataset1['Book-Title'].unique()):\n",
    "    d = dataset1[dataset1['Book-Title'] == bookName]\n",
    "    get_books(d, bookName, number)\n",
    "else:\n",
    "    print(\"Invalid Book Name!!\")"
   ]
  },
  {
   "cell_type": "markdown",
   "metadata": {
    "id": "W6m47CPTQ9IT"
   },
   "source": [
    "<h5><b>4. Books popular Yearly"
   ]
  },
  {
   "cell_type": "code",
   "execution_count": null,
   "metadata": {
    "colab": {
     "base_uri": "https://localhost:8080/",
     "height": 1000
    },
    "executionInfo": {
     "elapsed": 12713,
     "status": "ok",
     "timestamp": 1623912507206,
     "user": {
      "displayName": "Ashima IIITD",
      "photoUrl": "https://lh3.googleusercontent.com/a-/AOh14Gg51iTXizYDNTZkEdwmQ5GkwRQ8vp_9KTB8UVlC=s64",
      "userId": "02694856405090268186"
     },
     "user_tz": -330
    },
    "id": "zSXb3OHSV3sq",
    "outputId": "4abc18e3-48dd-4cdc-d892-ddcea7b03672",
    "scrolled": false
   },
   "outputs": [],
   "source": [
    "data = pd.DataFrame(dataset1.groupby('ISBN')['Book-Rating'].count()).sort_values('Book-Rating', ascending=False)\n",
    "data = pd.merge(data, books, on='ISBN')\n",
    "\n",
    "years = set()\n",
    "indices = []\n",
    "for ind, row in data.iterrows():\n",
    "    if row['Year-Of-Publication'] in years:\n",
    "        indices.append(ind)\n",
    "    else:\n",
    "        years.add(row['Year-Of-Publication'])\n",
    "\n",
    "data = data.drop(indices)\n",
    "data = data.drop('Book-Rating', axis = 1)\n",
    "data = data.sort_values('Year-Of-Publication')\n",
    "\n",
    "pd.set_option(\"display.max_rows\", None, \"display.max_columns\", None)\n",
    "data"
   ]
  },
  {
   "cell_type": "markdown",
   "metadata": {
    "id": "wq6UNh5HjdBC"
   },
   "source": [
    "<b><h5>5. Average Weighted Ratings"
   ]
  },
  {
   "cell_type": "code",
   "execution_count": null,
   "metadata": {
    "executionInfo": {
     "elapsed": 670,
     "status": "ok",
     "timestamp": 1623912507862,
     "user": {
      "displayName": "Ashima IIITD",
      "photoUrl": "https://lh3.googleusercontent.com/a-/AOh14Gg51iTXizYDNTZkEdwmQ5GkwRQ8vp_9KTB8UVlC=s64",
      "userId": "02694856405090268186"
     },
     "user_tz": -330
    },
    "id": "ilzR4tNhc6ts"
   },
   "outputs": [],
   "source": [
    "# def avgRating(newdf, df):\n",
    "#     newdf['Average Rating'] = 0\n",
    "#     for x in range(len(newdf)):\n",
    "#         l = list(df.loc[df['Book-Title'] == newdf['Book-Title'][x]]['Book-Rating'])\n",
    "#         newdf['Average Rating'][x] = sum(l)/len(l)\n",
    "#     return newdf\n",
    "\n",
    "# df = pd.DataFrame(dataset1['Book-Title'].value_counts())\n",
    "# df['Total-Ratings'] = df['Book-Title']\n",
    "# df['Book-Title'] = df.index\n",
    "# df.reset_index(level=0, inplace=True)\n",
    "# df = df.drop('index',axis=1)\n",
    "\n",
    "# # df = avgRating(df, dataset1)\n",
    "# # df.to_pickle('weightedData')\n",
    "# df = pd.read_pickle('weightedData')"
   ]
  },
  {
   "cell_type": "code",
   "execution_count": null,
   "metadata": {},
   "outputs": [],
   "source": [
    "\n",
    "def avgRating(newdf, avg_ratings):\n",
    "    newdf = newdf.merge(avg_ratings, on='Book-Title', how='left')\n",
    "    return newdf\n",
    "\n",
    "# Create a DataFrame with 'Book-Title' and 'Total-Ratings'\n",
    "df = pd.DataFrame(dataset1['Book-Title'].value_counts()).reset_index()\n",
    "df.columns = ['Book-Title', 'Total-Ratings']\n",
    "\n",
    "# Calculate average rating using groupby\n",
    "avg_ratings = dataset1.groupby('Book-Title')['Book-Rating'].mean().reset_index()\n",
    "avg_ratings.columns = ['Book-Title', 'Average Rating']\n",
    "\n",
    "# Merge the average ratings with the original DataFrame\n",
    "df = avgRating(df, avg_ratings)\n",
    "\n",
    "# Save to pickle\n",
    "df.to_pickle('weightedData')\n",
    "\n",
    "# Load from pickle\n",
    "df = pd.read_pickle('weightedData')\n"
   ]
  },
  {
   "cell_type": "code",
   "execution_count": null,
   "metadata": {
    "executionInfo": {
     "elapsed": 9,
     "status": "ok",
     "timestamp": 1623912507862,
     "user": {
      "displayName": "Ashima IIITD",
      "photoUrl": "https://lh3.googleusercontent.com/a-/AOh14Gg51iTXizYDNTZkEdwmQ5GkwRQ8vp_9KTB8UVlC=s64",
      "userId": "02694856405090268186"
     },
     "user_tz": -330
    },
    "id": "ZnRxHdScj_zi"
   },
   "outputs": [],
   "source": [
    "## C - Mean vote across the whole\n",
    "C = df['Average Rating'].mean()\n",
    "\n",
    "## Minimum number of votes required to be in the chart\n",
    "m = df['Total-Ratings'].quantile(0.90)"
   ]
  },
  {
   "cell_type": "code",
   "execution_count": null,
   "metadata": {
    "executionInfo": {
     "elapsed": 9,
     "status": "ok",
     "timestamp": 1623912507863,
     "user": {
      "displayName": "Ashima IIITD",
      "photoUrl": "https://lh3.googleusercontent.com/a-/AOh14Gg51iTXizYDNTZkEdwmQ5GkwRQ8vp_9KTB8UVlC=s64",
      "userId": "02694856405090268186"
     },
     "user_tz": -330
    },
    "id": "tFB8wKhFmYa3"
   },
   "outputs": [],
   "source": [
    "def weighted_rating(x, m=m, C=C): \n",
    "    v = x['Total-Ratings']    #v - number of votes\n",
    "    R = x['Average Rating']   #R - Average Rating   \n",
    "    return (v/(v+m) * R) + (m/(m+v) * C)"
   ]
  },
  {
   "cell_type": "code",
   "execution_count": null,
   "metadata": {
    "colab": {
     "base_uri": "https://localhost:8080/",
     "height": 238
    },
    "executionInfo": {
     "elapsed": 8,
     "status": "ok",
     "timestamp": 1623912507863,
     "user": {
      "displayName": "Ashima IIITD",
      "photoUrl": "https://lh3.googleusercontent.com/a-/AOh14Gg51iTXizYDNTZkEdwmQ5GkwRQ8vp_9KTB8UVlC=s64",
      "userId": "02694856405090268186"
     },
     "user_tz": -330
    },
    "id": "-6bX67JBB5eq",
    "outputId": "71bff8fc-5b9e-4f88-9b8b-d27994cc8f77"
   },
   "outputs": [],
   "source": [
    "df = df.loc[df['Total-Ratings'] >= m]\n",
    "\n",
    "df['score'] = df.apply(weighted_rating, axis=1)\n",
    "df = df.sort_values('score', ascending=False)\n",
    "\n",
    "print(\"Recommended Books:-\\n\")\n",
    "df.head(number)"
   ]
  },
  {
   "cell_type": "markdown",
   "metadata": {
    "id": "uwTmM94TvtFS"
   },
   "source": [
    "<b><h5>6. Collaborative Filtering (User-Item Filtering)"
   ]
  },
  {
   "cell_type": "markdown",
   "metadata": {
    "id": "1p702BN3ycRu"
   },
   "source": [
    "Selecting books with total ratings equals to or more than 50 (Because of availability of limited resources)"
   ]
  },
  {
   "cell_type": "code",
   "execution_count": null,
   "metadata": {
    "executionInfo": {
     "elapsed": 513,
     "status": "ok",
     "timestamp": 1623912508370,
     "user": {
      "displayName": "Ashima IIITD",
      "photoUrl": "https://lh3.googleusercontent.com/a-/AOh14Gg51iTXizYDNTZkEdwmQ5GkwRQ8vp_9KTB8UVlC=s64",
      "userId": "02694856405090268186"
     },
     "user_tz": -330
    },
    "id": "WiVO9-5Mc7HH"
   },
   "outputs": [],
   "source": [
    "import pandas as pd\n",
    "\n",
    "# Create a DataFrame with 'Book-Title' and 'Total-Ratings'\n",
    "df = pd.DataFrame(dataset1['Book-Title'].value_counts()).reset_index()\n",
    "df.columns = ['Book-Title', 'Total-Ratings']\n",
    "\n",
    "# Merge the original dataset with the new DataFrame to add 'Total-Ratings'\n",
    "df = dataset1.merge(df, on='Book-Title', how='left')\n",
    "\n",
    "# Drop unnecessary columns\n",
    "df = df.drop(['Year-Of-Publication', 'Publisher', 'Age', 'City', 'State', 'Country'], axis=1)\n",
    "\n",
    "# Filter books with ratings above the popularity threshold\n",
    "popularity_threshold = 50\n",
    "popular_book = df[df['Total-Ratings'] >= popularity_threshold].reset_index(drop=True)\n",
    "\n",
    "print(popular_book.head())\n"
   ]
  },
  {
   "cell_type": "markdown",
   "metadata": {
    "id": "-rS5fkuz0oY1"
   },
   "source": [
    "User - Item Collaborative Filtering"
   ]
  },
  {
   "cell_type": "code",
   "execution_count": null,
   "metadata": {
    "executionInfo": {
     "elapsed": 860,
     "status": "ok",
     "timestamp": 1623912509228,
     "user": {
      "displayName": "Ashima IIITD",
      "photoUrl": "https://lh3.googleusercontent.com/a-/AOh14Gg51iTXizYDNTZkEdwmQ5GkwRQ8vp_9KTB8UVlC=s64",
      "userId": "02694856405090268186"
     },
     "user_tz": -330
    },
    "id": "9mEfukbkytYt"
   },
   "outputs": [],
   "source": [
    "testdf = pd.DataFrame()\n",
    "testdf['ISBN'] = popular_book['ISBN']\n",
    "testdf['Book-Rating'] = popular_book['Book-Rating']\n",
    "testdf['User-ID'] = popular_book['User-ID']\n",
    "testdf = testdf[['User-ID','Book-Rating']].groupby(testdf['ISBN'])"
   ]
  },
  {
   "cell_type": "code",
   "execution_count": null,
   "metadata": {
    "executionInfo": {
     "elapsed": 3737,
     "status": "ok",
     "timestamp": 1623912512960,
     "user": {
      "displayName": "Ashima IIITD",
      "photoUrl": "https://lh3.googleusercontent.com/a-/AOh14Gg51iTXizYDNTZkEdwmQ5GkwRQ8vp_9KTB8UVlC=s64",
      "userId": "02694856405090268186"
     },
     "user_tz": -330
    },
    "id": "r66TqAWGytgA"
   },
   "outputs": [],
   "source": [
    "listOfDictonaries=[]\n",
    "indexMap = {}\n",
    "reverseIndexMap = {}\n",
    "ptr=0\n",
    "\n",
    "for groupKey in testdf.groups.keys():\n",
    "    tempDict={}\n",
    "    groupDF = testdf.get_group(groupKey)\n",
    "    for i in range(0,len(groupDF)):\n",
    "        tempDict[groupDF.iloc[i,0]] = groupDF.iloc[i,1]\n",
    "    indexMap[ptr]=groupKey\n",
    "    reverseIndexMap[groupKey] = ptr\n",
    "    ptr=ptr+1\n",
    "    listOfDictonaries.append(tempDict)\n",
    "\n",
    "dictVectorizer = DictVectorizer(sparse=True)\n",
    "vector = dictVectorizer.fit_transform(listOfDictonaries)\n",
    "pairwiseSimilarity = cosine_similarity(vector)"
   ]
  },
  {
   "cell_type": "code",
   "execution_count": null,
   "metadata": {
    "executionInfo": {
     "elapsed": 6,
     "status": "ok",
     "timestamp": 1623912512961,
     "user": {
      "displayName": "Ashima IIITD",
      "photoUrl": "https://lh3.googleusercontent.com/a-/AOh14Gg51iTXizYDNTZkEdwmQ5GkwRQ8vp_9KTB8UVlC=s64",
      "userId": "02694856405090268186"
     },
     "user_tz": -330
    },
    "id": "IzIV0D0W1c8T"
   },
   "outputs": [],
   "source": [
    "def printBookDetails(bookID):\n",
    "    print(dataset1[dataset1['ISBN']==bookID]['Book-Title'].values[0])\n",
    "    \"\"\"\n",
    "    print(\"Title:\", dataset1[dataset1['ISBN']==bookID]['Book-Title'].values[0])\n",
    "    print(\"Author:\",dataset1[dataset['ISBN']==bookID]['Book-Author'].values[0])\n",
    "    #print(\"Printing Book-ID:\",bookID)\n",
    "    print(\"\\n\")\n",
    "    \"\"\"\n",
    "\n",
    "def getTopRecommandations(bookID):\n",
    "    collaborative = []\n",
    "    row = reverseIndexMap[bookID]\n",
    "    print(\"Input Book:\")\n",
    "    printBookDetails(bookID)\n",
    "    \n",
    "    print(\"\\nRECOMMENDATIONS:\\n\")\n",
    "    \n",
    "    mn = 0\n",
    "    similar = []\n",
    "    for i in np.argsort(pairwiseSimilarity[row])[:-2][::-1]:\n",
    "          if dataset1[dataset1['ISBN']==indexMap[i]]['Book-Title'].values[0] not in similar:\n",
    "                if mn>=number:\n",
    "                      break\n",
    "                mn+=1\n",
    "                similar.append(dataset1[dataset1['ISBN']==indexMap[i]]['Book-Title'].values[0])\n",
    "                printBookDetails(indexMap[i])\n",
    "                collaborative.append(dataset1[dataset1['ISBN']==indexMap[i]]['Book-Title'].values[0])\n",
    "    return collaborative"
   ]
  },
  {
   "cell_type": "code",
   "execution_count": null,
   "metadata": {
    "colab": {
     "base_uri": "https://localhost:8080/"
    },
    "executionInfo": {
     "elapsed": 1089,
     "status": "ok",
     "timestamp": 1623912514046,
     "user": {
      "displayName": "Ashima IIITD",
      "photoUrl": "https://lh3.googleusercontent.com/a-/AOh14Gg51iTXizYDNTZkEdwmQ5GkwRQ8vp_9KTB8UVlC=s64",
      "userId": "02694856405090268186"
     },
     "user_tz": -330
    },
    "id": "S-nsb0Vy1USo",
    "outputId": "3a9a9d5f-bac2-4b16-8d66-2f4256eb4d69"
   },
   "outputs": [],
   "source": [
    "# Example dataset1 for demonstration purposes\n",
    "\n",
    "\n",
    "k = list(dataset1['Book-Title'])\n",
    "m = list(dataset1['ISBN'])\n",
    "\n",
    "def printBookDetails(bookID):\n",
    "    print(f\"Details for book ID {bookID}\")\n",
    "\n",
    "def getTopRecommandations(bookID):\n",
    "    collaborative = []\n",
    "    if bookID in reverseIndexMap:\n",
    "        row = reverseIndexMap[bookID]\n",
    "        print(\"Input Book:\")\n",
    "        printBookDetails(bookID)\n",
    "        # Add logic for getting top recommendations here\n",
    "    else:\n",
    "        print(f\"Book ID {bookID} not found in reverseIndexMap.\")\n",
    "    return collaborative\n",
    "\n",
    "# Check if bookName exists in the dataset\n",
    "if bookName in k:\n",
    "    # Get the corresponding bookID\n",
    "    bookID = m[k.index(bookName)]\n",
    "    print(f\"Book name '{bookName}' found with ISBN: {bookID}\")\n",
    "    # Check if bookID exists in reverseIndexMap\n",
    "    if bookID in reverseIndexMap:\n",
    "        collaborative = getTopRecommandations(bookID)\n",
    "    else:\n",
    "        print(f\"Book ID {bookID} not found in reverseIndexMap.\")\n",
    "else:\n",
    "    print(f\"Book name '{bookName}' not found in the dataset.\")\n",
    "\n",
    "# Output results\n",
    "print(collaborative)\n"
   ]
  },
  {
   "cell_type": "markdown",
   "metadata": {
    "id": "6V2ytbvjyhzb"
   },
   "source": [
    "<b><h5>7. Correlation Based"
   ]
  },
  {
   "cell_type": "code",
   "execution_count": null,
   "metadata": {},
   "outputs": [],
   "source": [
    "# Print the column names of dataset1\n",
    "print(dataset1.columns)\n"
   ]
  },
  {
   "cell_type": "code",
   "execution_count": null,
   "metadata": {
    "executionInfo": {
     "elapsed": 3248,
     "status": "ok",
     "timestamp": 1623912517292,
     "user": {
      "displayName": "Ashima IIITD",
      "photoUrl": "https://lh3.googleusercontent.com/a-/AOh14Gg51iTXizYDNTZkEdwmQ5GkwRQ8vp_9KTB8UVlC=s64",
      "userId": "02694856405090268186"
     },
     "user_tz": -330
    },
    "id": "aufg2Tzatv__"
   },
   "outputs": [],
   "source": [
    "popularity_threshold = 50\n",
    "\n",
    "user_count = dataset1['User-ID'].value_counts()\n",
    "data = dataset1[dataset1['User-ID'].isin(user_count[user_count >= popularity_threshold].index)]\n",
    "rat_count = data['Book-Rating'].value_counts()\n",
    "data = data[data['Book-Rating'].isin(rat_count[rat_count >= popularity_threshold].index)]\n",
    "\n",
    "matrix = data.pivot_table(index='User-ID', columns='ISBN', values = 'Book-Rating').fillna(0)"
   ]
  },
  {
   "cell_type": "code",
   "execution_count": null,
   "metadata": {
    "colab": {
     "base_uri": "https://localhost:8080/",
     "height": 235
    },
    "executionInfo": {
     "elapsed": 1086,
     "status": "ok",
     "timestamp": 1623912518366,
     "user": {
      "displayName": "Ashima IIITD",
      "photoUrl": "https://lh3.googleusercontent.com/a-/AOh14Gg51iTXizYDNTZkEdwmQ5GkwRQ8vp_9KTB8UVlC=s64",
      "userId": "02694856405090268186"
     },
     "user_tz": -330
    },
    "id": "NcaXUCR8T5z7",
    "outputId": "99f56996-f96d-4416-e8ec-214eb6588511"
   },
   "outputs": [],
   "source": [
    "average_rating = pd.DataFrame(dataset1.groupby('ISBN')['Book-Rating'].mean())\n",
    "average_rating['ratingCount'] = pd.DataFrame(ratings.groupby('ISBN')['Book-Rating'].count())\n",
    "average_rating.sort_values('ratingCount', ascending=False).head()"
   ]
  },
  {
   "cell_type": "code",
   "execution_count": null,
   "metadata": {
    "colab": {
     "base_uri": "https://localhost:8080/",
     "height": 255
    },
    "executionInfo": {
     "elapsed": 24185,
     "status": "ok",
     "timestamp": 1623912542547,
     "user": {
      "displayName": "Ashima IIITD",
      "photoUrl": "https://lh3.googleusercontent.com/a-/AOh14Gg51iTXizYDNTZkEdwmQ5GkwRQ8vp_9KTB8UVlC=s64",
      "userId": "02694856405090268186"
     },
     "user_tz": -330
    },
    "id": "NFkNNpoNT53I",
    "outputId": "542caebf-67c0-42eb-9613-609438cc11c4"
   },
   "outputs": [],
   "source": [
    "#isbn = books.loc[books['Book-Title'] == bookName].reset_index(drop = True).iloc[0]['ISBN']\n",
    "isbn = '1594130027'\n",
    "row = matrix[isbn]\n",
    "correlation = pd.DataFrame(matrix.corrwith(row), columns = ['Pearson Corr'])\n",
    "corr = correlation.join(average_rating['ratingCount'])\n",
    "\n",
    "res = corr.sort_values('Pearson Corr', ascending=False).head(number+1)[1:].index\n",
    "corr_books = pd.merge(pd.DataFrame(res, columns = ['ISBN']), books, on='ISBN')\n",
    "print(\"\\n Recommended Books: \\n\")\n",
    "corr_books\n",
    "\n",
    "# if bookName in books['Book-Title'].values:\n",
    "#     isbn = books.loc[books['Book-Title'] == bookName].reset_index(drop=True).iloc[0]['ISBN']\n",
    "#     print(f\"ISBN for book '{bookName}': {isbn}\")\n",
    "\n",
    "    # Ensure the ISBN exists in the matrix columns\n",
    "#     if isbn in matrix.columns:\n",
    "#         row = matrix[isbn]\n",
    "#         correlation = pd.DataFrame(matrix.corrwith(row), columns=['Pearson Corr'])\n",
    "#         corr = correlation.join(average_rating.set_index('ISBN')['ratingCount'])\n",
    "\n",
    "#         res = corr.sort_values('Pearson Corr', ascending=False).head(number+1)[1:].index\n",
    "#         corr_books = pd.merge(pd.DataFrame(res, columns=['ISBN']), books, on='ISBN')\n",
    "#         print(\"\\nRecommended Books:\\n\")\n",
    "#         print(corr_books)\n",
    "#     else:\n",
    "#         print(f\"ISBN '{isbn}' not found in the matrix columns.\")\n",
    "# else:\n",
    "#     print(f\"Book name '{bookName}' not found in the books DataFrame.\")\n",
    "\n"
   ]
  },
  {
   "cell_type": "markdown",
   "metadata": {
    "id": "y0Ci0b0MdTtX"
   },
   "source": [
    "<h5><b>8. Nearest Neighbours Based"
   ]
  },
  {
   "cell_type": "code",
   "execution_count": null,
   "metadata": {
    "executionInfo": {
     "elapsed": 1918,
     "status": "ok",
     "timestamp": 1623912544451,
     "user": {
      "displayName": "Ashima IIITD",
      "photoUrl": "https://lh3.googleusercontent.com/a-/AOh14Gg51iTXizYDNTZkEdwmQ5GkwRQ8vp_9KTB8UVlC=s64",
      "userId": "02694856405090268186"
     },
     "user_tz": -330
    },
    "id": "VHzpuua9XDMA"
   },
   "outputs": [],
   "source": [
    "data = (dataset1.groupby(by = ['Book-Title'])['Book-Rating'].count().reset_index().\n",
    "        rename(columns = {'Book-Rating': 'Total-Rating'})[['Book-Title', 'Total-Rating']])\n",
    "\n",
    "result = pd.merge(data, dataset1, on='Book-Title', left_index = True)\n",
    "result = result[result['Total-Rating'] >= popularity_threshold]\n",
    "result = result.reset_index(drop = True)\n",
    "\n",
    "matrix = result.pivot_table(index = 'Book-Title', columns = 'User-ID', values = 'Book-Rating').fillna(0)\n",
    "up_matrix = csr_matrix(matrix)"
   ]
  },
  {
   "cell_type": "code",
   "execution_count": null,
   "metadata": {
    "colab": {
     "base_uri": "https://localhost:8080/"
    },
    "executionInfo": {
     "elapsed": 10,
     "status": "ok",
     "timestamp": 1623912544452,
     "user": {
      "displayName": "Ashima IIITD",
      "photoUrl": "https://lh3.googleusercontent.com/a-/AOh14Gg51iTXizYDNTZkEdwmQ5GkwRQ8vp_9KTB8UVlC=s64",
      "userId": "02694856405090268186"
     },
     "user_tz": -330
    },
    "id": "ljXA5pa6fWLE",
    "outputId": "86a3c600-a296-4d60-c34a-35f2db0b1818"
   },
   "outputs": [],
   "source": [
    "model = NearestNeighbors(metric = 'cosine', algorithm = 'brute')\n",
    "model.fit(up_matrix)\n",
    "\n",
    "distances, indices = model.kneighbors(matrix.loc[bookName].values.reshape(1, -1), n_neighbors = number+1)\n",
    "print(\"\\nRecommended books:\\n\")\n",
    "for i in range(0, len(distances.flatten())):\n",
    "    if i > 0:\n",
    "        print(matrix.index[indices.flatten()[i]]) "
   ]
  },
  {
   "cell_type": "markdown",
   "metadata": {
    "id": "szabjbQfynby"
   },
   "source": [
    "<h5><b>9. Content Based"
   ]
  },
  {
   "cell_type": "code",
   "execution_count": null,
   "metadata": {
    "colab": {
     "base_uri": "https://localhost:8080/"
    },
    "executionInfo": {
     "elapsed": 9,
     "status": "ok",
     "timestamp": 1623912544452,
     "user": {
      "displayName": "Ashima IIITD",
      "photoUrl": "https://lh3.googleusercontent.com/a-/AOh14Gg51iTXizYDNTZkEdwmQ5GkwRQ8vp_9KTB8UVlC=s64",
      "userId": "02694856405090268186"
     },
     "user_tz": -330
    },
    "id": "W0XtLZRz984K",
    "outputId": "4273e2b5-9448-4d7d-ba17-a5afb0f3d35a"
   },
   "outputs": [],
   "source": [
    "popularity_threshold = 80\n",
    "popular_book = df[df['Total-Ratings'] >= popularity_threshold]\n",
    "popular_book = popular_book.reset_index(drop = True)\n",
    "popular_book.shape"
   ]
  },
  {
   "cell_type": "code",
   "execution_count": null,
   "metadata": {
    "colab": {
     "base_uri": "https://localhost:8080/"
    },
    "executionInfo": {
     "elapsed": 489,
     "status": "ok",
     "timestamp": 1623912544937,
     "user": {
      "displayName": "Ashima IIITD",
      "photoUrl": "https://lh3.googleusercontent.com/a-/AOh14Gg51iTXizYDNTZkEdwmQ5GkwRQ8vp_9KTB8UVlC=s64",
      "userId": "02694856405090268186"
     },
     "user_tz": -330
    },
    "id": "Hl5c0U0V99Z4",
    "outputId": "bdd805b7-5aaf-4f7b-fbe8-07a4fec80787"
   },
   "outputs": [],
   "source": [
    "tf = TfidfVectorizer(ngram_range=(1, 2), min_df = 1, stop_words='english')\n",
    "tfidf_matrix = tf.fit_transform(popular_book['Book-Title'])\n",
    "tfidf_matrix.shape"
   ]
  },
  {
   "cell_type": "code",
   "execution_count": null,
   "metadata": {
    "colab": {
     "base_uri": "https://localhost:8080/"
    },
    "executionInfo": {
     "elapsed": 14440,
     "status": "ok",
     "timestamp": 1623912559376,
     "user": {
      "displayName": "Ashima IIITD",
      "photoUrl": "https://lh3.googleusercontent.com/a-/AOh14Gg51iTXizYDNTZkEdwmQ5GkwRQ8vp_9KTB8UVlC=s64",
      "userId": "02694856405090268186"
     },
     "user_tz": -330
    },
    "id": "ChPiIM2O4cE-",
    "outputId": "d4874175-1261-4591-e785-3e0a0b31fd19"
   },
   "outputs": [],
   "source": [
    "normalized_df = tfidf_matrix.astype(np.float32)\n",
    "cosine_similarities = cosine_similarity(normalized_df, normalized_df)\n",
    "cosine_similarities.shape"
   ]
  },
  {
   "cell_type": "code",
   "execution_count": null,
   "metadata": {
    "colab": {
     "base_uri": "https://localhost:8080/"
    },
    "executionInfo": {
     "elapsed": 670,
     "status": "ok",
     "timestamp": 1623912560044,
     "user": {
      "displayName": "Ashima IIITD",
      "photoUrl": "https://lh3.googleusercontent.com/a-/AOh14Gg51iTXizYDNTZkEdwmQ5GkwRQ8vp_9KTB8UVlC=s64",
      "userId": "02694856405090268186"
     },
     "user_tz": -330
    },
    "id": "ZqGC4lR0GJGE",
    "outputId": "d4ab119d-ba62-4499-f727-71b0a3178093"
   },
   "outputs": [],
   "source": [
    "print(\"Recommended Books:\\n\")\n",
    "isbn = books.loc[books['Book-Title'] == bookName].reset_index(drop = True).iloc[0]['ISBN']\n",
    "content = []\n",
    "\n",
    "idx = popular_book.index[popular_book['ISBN'] == isbn].tolist()[0]\n",
    "similar_indices = cosine_similarities[idx].argsort()[::-1]\n",
    "similar_items = []\n",
    "for i in similar_indices:\n",
    "    if popular_book['Book-Title'][i] != bookName and popular_book['Book-Title'][i] not in similar_items and len(similar_items) < number:\n",
    "        similar_items.append(popular_book['Book-Title'][i])\n",
    "        content.append(popular_book['Book-Title'][i])\n",
    "\n",
    "for book in similar_items:\n",
    "    print(book)"
   ]
  },
  {
   "cell_type": "markdown",
   "metadata": {
    "id": "o8QpuMrECO_E"
   },
   "source": [
    "<b><h5>10. Hybrid Approach (Content+Collaborative) Using percentile"
   ]
  },
  {
   "cell_type": "code",
   "execution_count": null,
   "metadata": {
    "colab": {
     "base_uri": "https://localhost:8080/"
    },
    "executionInfo": {
     "elapsed": 11,
     "status": "ok",
     "timestamp": 1623912560045,
     "user": {
      "displayName": "Ashima IIITD",
      "photoUrl": "https://lh3.googleusercontent.com/a-/AOh14Gg51iTXizYDNTZkEdwmQ5GkwRQ8vp_9KTB8UVlC=s64",
      "userId": "02694856405090268186"
     },
     "user_tz": -330
    },
    "id": "hFprQgdiO4Pg",
    "outputId": "a581c0f9-ad56-40ba-a981-ebf62505cfe8"
   },
   "outputs": [],
   "source": [
    "z = list()\n",
    "k = float(1/number)\n",
    "for x in range(number):\n",
    "      z.append(1-k*x)\n",
    "\n",
    "dictISBN = {}\n",
    "for x in collaborative:\n",
    "      dictISBN[x] = z[collaborative.index(x)]\n",
    "\n",
    "for x in content:\n",
    "    if x not in dictISBN:\n",
    "        dictISBN[x] = z[content.index(x)]\n",
    "    else:\n",
    "        dictISBN[x] += z[content.index(x)]\n",
    "\n",
    "ISBN = dict(sorted(dictISBN.items(),key=operator.itemgetter(1),reverse=True))\n",
    "w=0\n",
    "print(\"Input Book:\\n\")\n",
    "print(bookName)\n",
    "print(\"\\nRecommended Books:\\n\")\n",
    "for x in ISBN.keys():\n",
    "    if w>=number:\n",
    "        break\n",
    "    w+=1\n",
    "    print(x)"
   ]
  },
  {
   "cell_type": "code",
   "execution_count": null,
   "metadata": {
    "executionInfo": {
     "elapsed": 6,
     "status": "ok",
     "timestamp": 1623912560045,
     "user": {
      "displayName": "Ashima IIITD",
      "photoUrl": "https://lh3.googleusercontent.com/a-/AOh14Gg51iTXizYDNTZkEdwmQ5GkwRQ8vp_9KTB8UVlC=s64",
      "userId": "02694856405090268186"
     },
     "user_tz": -330
    },
    "id": "1qmbpJydS26x"
   },
   "outputs": [],
   "source": []
  },
  {
   "cell_type": "code",
   "execution_count": null,
   "metadata": {
    "executionInfo": {
     "elapsed": 6,
     "status": "ok",
     "timestamp": 1623912560046,
     "user": {
      "displayName": "Ashima IIITD",
      "photoUrl": "https://lh3.googleusercontent.com/a-/AOh14Gg51iTXizYDNTZkEdwmQ5GkwRQ8vp_9KTB8UVlC=s64",
      "userId": "02694856405090268186"
     },
     "user_tz": -330
    },
    "id": "7uV11b7CS3d0"
   },
   "outputs": [],
   "source": []
  },
  {
   "cell_type": "code",
   "execution_count": null,
   "metadata": {
    "executionInfo": {
     "elapsed": 6,
     "status": "ok",
     "timestamp": 1623912560046,
     "user": {
      "displayName": "Ashima IIITD",
      "photoUrl": "https://lh3.googleusercontent.com/a-/AOh14Gg51iTXizYDNTZkEdwmQ5GkwRQ8vp_9KTB8UVlC=s64",
      "userId": "02694856405090268186"
     },
     "user_tz": -330
    },
    "id": "XMkIMUQtS35f"
   },
   "outputs": [],
   "source": []
  }
 ],
 "metadata": {
  "colab": {
   "collapsed_sections": [],
   "name": "BRS.ipynb",
   "provenance": []
  },
  "kernelspec": {
   "display_name": "Python 3",
   "language": "python",
   "name": "python3"
  },
  "language_info": {
   "codemirror_mode": {
    "name": "ipython",
    "version": 3
   },
   "file_extension": ".py",
   "mimetype": "text/x-python",
   "name": "python",
   "nbconvert_exporter": "python",
   "pygments_lexer": "ipython3",
   "version": "3.12.3"
  }
 },
 "nbformat": 4,
 "nbformat_minor": 1
}
